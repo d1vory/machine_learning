{
 "cells": [
  {
   "cell_type": "code",
   "execution_count": 3,
   "metadata": {
    "collapsed": true
   },
   "outputs": [],
   "source": [
    "import pandas as pd\n",
    "import torch\n",
    "from torchmetrics.detection.mean_ap import MeanAveragePrecision"
   ]
  },
  {
   "cell_type": "code",
   "execution_count": 4,
   "outputs": [],
   "source": [
    "map_assignment_ground_truth = pd.read_csv('./map_assignment_ground_truth.csv', delimiter=',', low_memory=False)\n",
    "map_assignment_predictions = pd.read_csv('./map_assignment_predictions.csv', delimiter=',', low_memory=False)"
   ],
   "metadata": {
    "collapsed": false,
    "pycharm": {
     "name": "#%%\n"
    }
   }
  },
  {
   "cell_type": "code",
   "execution_count": 5,
   "outputs": [],
   "source": [
    "def calculate_map(preds, real):\n",
    "    pass"
   ],
   "metadata": {
    "collapsed": false,
    "pycharm": {
     "name": "#%%\n"
    }
   }
  },
  {
   "cell_type": "code",
   "execution_count": 6,
   "outputs": [],
   "source": [
    "classes = map_assignment_ground_truth['class'].unique()\n",
    "images = map_assignment_ground_truth['filename'].unique()"
   ],
   "metadata": {
    "collapsed": false,
    "pycharm": {
     "name": "#%%\n"
    }
   }
  },
  {
   "cell_type": "code",
   "execution_count": 7,
   "outputs": [],
   "source": [
    "classes_dict = {\n",
    "    'Vehicle': 0,\n",
    "    'Human': 1,\n",
    "    'Object': 2\n",
    "}\n",
    "map_assignment_ground_truth['class_num'] = map_assignment_ground_truth[['class']].replace(classes_dict)\n",
    "map_assignment_predictions['class_num'] = map_assignment_predictions[['class']].replace(classes_dict)"
   ],
   "metadata": {
    "collapsed": false,
    "pycharm": {
     "name": "#%%\n"
    }
   }
  },
  {
   "cell_type": "code",
   "execution_count": 8,
   "outputs": [],
   "source": [
    "# def get_boxes_tensor(df, filename):\n",
    "#     filtered = df[df['filename'] == filename]\n",
    "#     return torch.tensor(filtered[['xmin', 'ymin', 'xmax', 'ymax']].to_numpy())\n",
    "\n",
    "\n",
    "# predictions = [\n",
    "#     dict(\n",
    "#         boxes=get_boxes_tensor(map_assignment_predictions, image_name),\n",
    "#         scores=torch.tensor([0.536]),\n",
    "#         labels=torch.tensor([0]),\n",
    "#     )\n",
    "#     for image_name in images\n",
    "# ]\n",
    "\n",
    "predictions = []\n",
    "ground_truths = []\n",
    "\n",
    "for image_name in images:\n",
    "    filtered_predictions = map_assignment_predictions[map_assignment_predictions['filename'] == image_name]\n",
    "    filtered_ground_truths = map_assignment_ground_truth[map_assignment_ground_truth['filename'] == image_name]\n",
    "\n",
    "    predictions.append({\n",
    "        'boxes': torch.tensor(filtered_predictions[['xmin', 'ymin', 'xmax', 'ymax']].to_numpy()),\n",
    "        'scores': torch.tensor(filtered_predictions['score'].to_numpy()),\n",
    "        'labels': torch.tensor(filtered_predictions['class_num'].to_numpy())\n",
    "    })\n",
    "\n",
    "    ground_truths.append({\n",
    "        'boxes': torch.tensor(filtered_ground_truths[['xmin', 'ymin', 'xmax', 'ymax']].to_numpy()),\n",
    "        'labels': torch.tensor(filtered_ground_truths['class_num'].to_numpy())\n",
    "    })"
   ],
   "metadata": {
    "collapsed": false,
    "pycharm": {
     "name": "#%%\n"
    }
   }
  },
  {
   "cell_type": "code",
   "execution_count": 9,
   "outputs": [
    {
     "data": {
      "text/plain": "                               filename    class     score        xmin  \\\n0   XXX_TUS233_1593434074.9331036_1.jpg  Vehicle  0.999835  561.244375   \n1   XXX_TUS233_1593434074.9331036_1.jpg  Vehicle  0.999824  545.757011   \n2   XXX_TUS233_1593434074.9331036_1.jpg  Vehicle  0.987250  546.726793   \n3   XXX_TUS233_1593434074.9331036_1.jpg  Vehicle  0.982133  568.682404   \n4   XXX_TUS233_1593434074.9331036_1.jpg  Vehicle  0.921274  588.586596   \n5   XXX_TUS233_1593434074.9331036_1.jpg  Vehicle  0.912345  581.525620   \n6   XXX_TUS233_1593434074.9331036_1.jpg  Vehicle  0.775483  554.891549   \n7   XXX_TUS233_1593434074.9331036_1.jpg  Vehicle  0.677221  591.806408   \n8   XXX_TUS233_1593434074.9331036_1.jpg  Vehicle  0.470639  597.291316   \n9   XXX_TUS233_1593434074.9331036_1.jpg  Vehicle  0.366454  571.454606   \n10  XXX_TUS233_1593434074.9331036_1.jpg  Vehicle  0.341452  582.679071   \n11  XXX_TUS233_1593434074.9331036_1.jpg  Vehicle  0.234910  584.419533   \n12  XXX_TUS233_1593434074.9331036_1.jpg  Vehicle  0.118604  572.606570   \n\n          ymin        xmax        ymax  index_pred  class_num  \n0    84.548545  592.644663  109.890481           0          0  \n1   117.405949  592.049385  156.095089           1          0  \n2    53.183871  567.340834   69.941495           2          0  \n3    36.318524  581.257904   45.800853           3          0  \n4    34.530102  599.382398   43.370380           4          0  \n5    49.786794  598.330704   64.452701           5          0  \n6    45.130798  569.639823   57.472366           6          0  \n7    32.851548  601.635852   40.684036           7          0  \n8    25.608920  605.446599   31.527772           8          0  \n9    70.520249  596.049178   87.487380           9          0  \n10   25.210452  591.297857   31.659399          10          0  \n11   46.012779  597.620628   57.353203          11          0  \n12   25.413915  582.266232   33.045046          12          0  ",
      "text/html": "<div>\n<style scoped>\n    .dataframe tbody tr th:only-of-type {\n        vertical-align: middle;\n    }\n\n    .dataframe tbody tr th {\n        vertical-align: top;\n    }\n\n    .dataframe thead th {\n        text-align: right;\n    }\n</style>\n<table border=\"1\" class=\"dataframe\">\n  <thead>\n    <tr style=\"text-align: right;\">\n      <th></th>\n      <th>filename</th>\n      <th>class</th>\n      <th>score</th>\n      <th>xmin</th>\n      <th>ymin</th>\n      <th>xmax</th>\n      <th>ymax</th>\n      <th>index_pred</th>\n      <th>class_num</th>\n    </tr>\n  </thead>\n  <tbody>\n    <tr>\n      <th>0</th>\n      <td>XXX_TUS233_1593434074.9331036_1.jpg</td>\n      <td>Vehicle</td>\n      <td>0.999835</td>\n      <td>561.244375</td>\n      <td>84.548545</td>\n      <td>592.644663</td>\n      <td>109.890481</td>\n      <td>0</td>\n      <td>0</td>\n    </tr>\n    <tr>\n      <th>1</th>\n      <td>XXX_TUS233_1593434074.9331036_1.jpg</td>\n      <td>Vehicle</td>\n      <td>0.999824</td>\n      <td>545.757011</td>\n      <td>117.405949</td>\n      <td>592.049385</td>\n      <td>156.095089</td>\n      <td>1</td>\n      <td>0</td>\n    </tr>\n    <tr>\n      <th>2</th>\n      <td>XXX_TUS233_1593434074.9331036_1.jpg</td>\n      <td>Vehicle</td>\n      <td>0.987250</td>\n      <td>546.726793</td>\n      <td>53.183871</td>\n      <td>567.340834</td>\n      <td>69.941495</td>\n      <td>2</td>\n      <td>0</td>\n    </tr>\n    <tr>\n      <th>3</th>\n      <td>XXX_TUS233_1593434074.9331036_1.jpg</td>\n      <td>Vehicle</td>\n      <td>0.982133</td>\n      <td>568.682404</td>\n      <td>36.318524</td>\n      <td>581.257904</td>\n      <td>45.800853</td>\n      <td>3</td>\n      <td>0</td>\n    </tr>\n    <tr>\n      <th>4</th>\n      <td>XXX_TUS233_1593434074.9331036_1.jpg</td>\n      <td>Vehicle</td>\n      <td>0.921274</td>\n      <td>588.586596</td>\n      <td>34.530102</td>\n      <td>599.382398</td>\n      <td>43.370380</td>\n      <td>4</td>\n      <td>0</td>\n    </tr>\n    <tr>\n      <th>5</th>\n      <td>XXX_TUS233_1593434074.9331036_1.jpg</td>\n      <td>Vehicle</td>\n      <td>0.912345</td>\n      <td>581.525620</td>\n      <td>49.786794</td>\n      <td>598.330704</td>\n      <td>64.452701</td>\n      <td>5</td>\n      <td>0</td>\n    </tr>\n    <tr>\n      <th>6</th>\n      <td>XXX_TUS233_1593434074.9331036_1.jpg</td>\n      <td>Vehicle</td>\n      <td>0.775483</td>\n      <td>554.891549</td>\n      <td>45.130798</td>\n      <td>569.639823</td>\n      <td>57.472366</td>\n      <td>6</td>\n      <td>0</td>\n    </tr>\n    <tr>\n      <th>7</th>\n      <td>XXX_TUS233_1593434074.9331036_1.jpg</td>\n      <td>Vehicle</td>\n      <td>0.677221</td>\n      <td>591.806408</td>\n      <td>32.851548</td>\n      <td>601.635852</td>\n      <td>40.684036</td>\n      <td>7</td>\n      <td>0</td>\n    </tr>\n    <tr>\n      <th>8</th>\n      <td>XXX_TUS233_1593434074.9331036_1.jpg</td>\n      <td>Vehicle</td>\n      <td>0.470639</td>\n      <td>597.291316</td>\n      <td>25.608920</td>\n      <td>605.446599</td>\n      <td>31.527772</td>\n      <td>8</td>\n      <td>0</td>\n    </tr>\n    <tr>\n      <th>9</th>\n      <td>XXX_TUS233_1593434074.9331036_1.jpg</td>\n      <td>Vehicle</td>\n      <td>0.366454</td>\n      <td>571.454606</td>\n      <td>70.520249</td>\n      <td>596.049178</td>\n      <td>87.487380</td>\n      <td>9</td>\n      <td>0</td>\n    </tr>\n    <tr>\n      <th>10</th>\n      <td>XXX_TUS233_1593434074.9331036_1.jpg</td>\n      <td>Vehicle</td>\n      <td>0.341452</td>\n      <td>582.679071</td>\n      <td>25.210452</td>\n      <td>591.297857</td>\n      <td>31.659399</td>\n      <td>10</td>\n      <td>0</td>\n    </tr>\n    <tr>\n      <th>11</th>\n      <td>XXX_TUS233_1593434074.9331036_1.jpg</td>\n      <td>Vehicle</td>\n      <td>0.234910</td>\n      <td>584.419533</td>\n      <td>46.012779</td>\n      <td>597.620628</td>\n      <td>57.353203</td>\n      <td>11</td>\n      <td>0</td>\n    </tr>\n    <tr>\n      <th>12</th>\n      <td>XXX_TUS233_1593434074.9331036_1.jpg</td>\n      <td>Vehicle</td>\n      <td>0.118604</td>\n      <td>572.606570</td>\n      <td>25.413915</td>\n      <td>582.266232</td>\n      <td>33.045046</td>\n      <td>12</td>\n      <td>0</td>\n    </tr>\n  </tbody>\n</table>\n</div>"
     },
     "execution_count": 9,
     "metadata": {},
     "output_type": "execute_result"
    }
   ],
   "source": [
    "kek = map_assignment_predictions[map_assignment_predictions['filename'] == 'XXX_TUS233_1593434074.9331036_1.jpg']\n",
    "kek"
   ],
   "metadata": {
    "collapsed": false,
    "pycharm": {
     "name": "#%%\n"
    }
   }
  },
  {
   "cell_type": "code",
   "execution_count": 10,
   "outputs": [
    {
     "data": {
      "text/plain": "tensor([0, 0, 0, 0, 0, 0, 0, 0, 0, 0, 0, 0, 0])"
     },
     "execution_count": 10,
     "metadata": {},
     "output_type": "execute_result"
    }
   ],
   "source": [
    "torch.tensor(kek['class_num'])"
   ],
   "metadata": {
    "collapsed": false,
    "pycharm": {
     "name": "#%%\n"
    }
   }
  },
  {
   "cell_type": "code",
   "execution_count": 15,
   "outputs": [],
   "source": [
    "# preds = [\n",
    "#     dict(\n",
    "#         boxes=torch.tensor([[258.0, 41.0, 606.0, 285.0]]),\n",
    "#         scores=torch.tensor([0.536]),\n",
    "#         labels=torch.tensor([0]),\n",
    "#     )\n",
    "# ]\n",
    "# target = [\n",
    "#     dict(\n",
    "#         boxes=torch.tensor([[214.0, 41.0, 562.0, 285.0]]),\n",
    "#         labels=torch.tensor([0]),\n",
    "#     )\n",
    "# ]\n",
    "metric = MeanAveragePrecision(class_metrics=True)\n",
    "metric.update(predictions, ground_truths)\n"
   ],
   "metadata": {
    "collapsed": false,
    "pycharm": {
     "name": "#%%\n"
    }
   }
  },
  {
   "cell_type": "code",
   "execution_count": 16,
   "outputs": [],
   "source": [
    "res = metric.compute()"
   ],
   "metadata": {
    "collapsed": false,
    "pycharm": {
     "name": "#%%\n"
    }
   }
  },
  {
   "cell_type": "code",
   "execution_count": 17,
   "outputs": [
    {
     "data": {
      "text/plain": "{'map': tensor(0.5020),\n 'map_50': tensor(0.8738),\n 'map_75': tensor(0.5159),\n 'map_small': tensor(0.3968),\n 'map_medium': tensor(0.5234),\n 'map_large': tensor(0.6420),\n 'mar_1': tensor(0.3768),\n 'mar_10': tensor(0.5548),\n 'mar_100': tensor(0.5691),\n 'mar_small': tensor(0.4932),\n 'mar_medium': tensor(0.6080),\n 'mar_large': tensor(0.6832),\n 'map_per_class': tensor([0.5957, 0.4632, 0.4471]),\n 'mar_100_per_class': tensor([0.6454, 0.5541, 0.5079])}"
     },
     "execution_count": 17,
     "metadata": {},
     "output_type": "execute_result"
    }
   ],
   "source": [
    "res"
   ],
   "metadata": {
    "collapsed": false,
    "pycharm": {
     "name": "#%%\n"
    }
   }
  },
  {
   "cell_type": "code",
   "execution_count": null,
   "outputs": [],
   "source": [],
   "metadata": {
    "collapsed": false,
    "pycharm": {
     "name": "#%%\n"
    }
   }
  }
 ],
 "metadata": {
  "kernelspec": {
   "display_name": "Python 3",
   "language": "python",
   "name": "python3"
  },
  "language_info": {
   "codemirror_mode": {
    "name": "ipython",
    "version": 2
   },
   "file_extension": ".py",
   "mimetype": "text/x-python",
   "name": "python",
   "nbconvert_exporter": "python",
   "pygments_lexer": "ipython2",
   "version": "2.7.6"
  }
 },
 "nbformat": 4,
 "nbformat_minor": 0
}