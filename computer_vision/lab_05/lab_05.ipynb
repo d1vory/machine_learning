{
 "cells": [
  {
   "cell_type": "code",
   "execution_count": 1,
   "metadata": {
    "collapsed": true
   },
   "outputs": [
    {
     "name": "stderr",
     "output_type": "stream",
     "text": [
      "c:\\users\\olexandr\\.virtualenvs\\dataspellenv\\lib\\site-packages\\torchvision\\io\\image.py:13: UserWarning: Failed to load image Python extension: [WinError 127] The specified procedure could not be found\n",
      "  warn(f\"Failed to load image Python extension: {e}\")\n"
     ]
    }
   ],
   "source": [
    "import pandas as pd\n",
    "import torch\n",
    "from torchmetrics.detection.mean_ap import MeanAveragePrecision\n",
    "from torchvision import ops\n",
    "import matplotlib.pyplot as plt"
   ]
  },
  {
   "cell_type": "code",
   "execution_count": 4,
   "outputs": [],
   "source": [
    "map_assignment_ground_truth = pd.read_csv('./map_assignment_ground_truth.csv', delimiter=',', low_memory=False)\n",
    "map_assignment_predictions = pd.read_csv('./map_assignment_predictions.csv', delimiter=',', low_memory=False)"
   ],
   "metadata": {
    "collapsed": false,
    "pycharm": {
     "name": "#%%\n"
    }
   }
  },
  {
   "cell_type": "code",
   "execution_count": 6,
   "outputs": [],
   "source": [
    "classes = map_assignment_ground_truth['class'].unique()\n",
    "images = map_assignment_ground_truth['filename'].unique()"
   ],
   "metadata": {
    "collapsed": false,
    "pycharm": {
     "name": "#%%\n"
    }
   }
  },
  {
   "cell_type": "code",
   "execution_count": 7,
   "outputs": [
    {
     "data": {
      "text/plain": "                              filename    class     score        xmin  \\\n0  XXX_TUS233_1593434074.9331036_1.jpg  Vehicle  0.999835  561.244375   \n1  XXX_TUS233_1593434074.9331036_1.jpg  Vehicle  0.999824  545.757011   \n2  XXX_TUS233_1593434074.9331036_1.jpg  Vehicle  0.987250  546.726793   \n3  XXX_TUS233_1593434074.9331036_1.jpg  Vehicle  0.982133  568.682404   \n4  XXX_TUS233_1593434074.9331036_1.jpg  Vehicle  0.921274  588.586596   \n\n         ymin        xmax        ymax  index_pred  \n0   84.548545  592.644663  109.890481           0  \n1  117.405949  592.049385  156.095089           1  \n2   53.183871  567.340834   69.941495           2  \n3   36.318524  581.257904   45.800853           3  \n4   34.530102  599.382398   43.370380           4  ",
      "text/html": "<div>\n<style scoped>\n    .dataframe tbody tr th:only-of-type {\n        vertical-align: middle;\n    }\n\n    .dataframe tbody tr th {\n        vertical-align: top;\n    }\n\n    .dataframe thead th {\n        text-align: right;\n    }\n</style>\n<table border=\"1\" class=\"dataframe\">\n  <thead>\n    <tr style=\"text-align: right;\">\n      <th></th>\n      <th>filename</th>\n      <th>class</th>\n      <th>score</th>\n      <th>xmin</th>\n      <th>ymin</th>\n      <th>xmax</th>\n      <th>ymax</th>\n      <th>index_pred</th>\n    </tr>\n  </thead>\n  <tbody>\n    <tr>\n      <th>0</th>\n      <td>XXX_TUS233_1593434074.9331036_1.jpg</td>\n      <td>Vehicle</td>\n      <td>0.999835</td>\n      <td>561.244375</td>\n      <td>84.548545</td>\n      <td>592.644663</td>\n      <td>109.890481</td>\n      <td>0</td>\n    </tr>\n    <tr>\n      <th>1</th>\n      <td>XXX_TUS233_1593434074.9331036_1.jpg</td>\n      <td>Vehicle</td>\n      <td>0.999824</td>\n      <td>545.757011</td>\n      <td>117.405949</td>\n      <td>592.049385</td>\n      <td>156.095089</td>\n      <td>1</td>\n    </tr>\n    <tr>\n      <th>2</th>\n      <td>XXX_TUS233_1593434074.9331036_1.jpg</td>\n      <td>Vehicle</td>\n      <td>0.987250</td>\n      <td>546.726793</td>\n      <td>53.183871</td>\n      <td>567.340834</td>\n      <td>69.941495</td>\n      <td>2</td>\n    </tr>\n    <tr>\n      <th>3</th>\n      <td>XXX_TUS233_1593434074.9331036_1.jpg</td>\n      <td>Vehicle</td>\n      <td>0.982133</td>\n      <td>568.682404</td>\n      <td>36.318524</td>\n      <td>581.257904</td>\n      <td>45.800853</td>\n      <td>3</td>\n    </tr>\n    <tr>\n      <th>4</th>\n      <td>XXX_TUS233_1593434074.9331036_1.jpg</td>\n      <td>Vehicle</td>\n      <td>0.921274</td>\n      <td>588.586596</td>\n      <td>34.530102</td>\n      <td>599.382398</td>\n      <td>43.370380</td>\n      <td>4</td>\n    </tr>\n  </tbody>\n</table>\n</div>"
     },
     "execution_count": 7,
     "metadata": {},
     "output_type": "execute_result"
    }
   ],
   "source": [
    "map_assignment_predictions.head()"
   ],
   "metadata": {
    "collapsed": false,
    "pycharm": {
     "name": "#%%\n"
    }
   }
  },
  {
   "cell_type": "code",
   "execution_count": 8,
   "outputs": [
    {
     "data": {
      "text/plain": "{'map': tensor(0.5020),\n 'map_50': tensor(0.8738),\n 'map_75': tensor(0.5159),\n 'map_small': tensor(0.3968),\n 'map_medium': tensor(0.5234),\n 'map_large': tensor(0.6420),\n 'mar_1': tensor(0.3768),\n 'mar_10': tensor(0.5548),\n 'mar_100': tensor(0.5691),\n 'mar_small': tensor(0.4932),\n 'mar_medium': tensor(0.6080),\n 'mar_large': tensor(0.6832),\n 'map_per_class': tensor([0.5957, 0.4632, 0.4471]),\n 'mar_100_per_class': tensor([0.6454, 0.5541, 0.5079])}"
     },
     "execution_count": 8,
     "metadata": {},
     "output_type": "execute_result"
    }
   ],
   "source": [
    "def pytorch_map(predictions, ground_truth):\n",
    "    predictions = predictions.copy(deep=True)\n",
    "    ground_truth = ground_truth.copy(deep=True)\n",
    "    classes_dict = {\n",
    "        'Vehicle': 0,\n",
    "        'Human': 1,\n",
    "        'Object': 2\n",
    "    }\n",
    "    ground_truth['class_num'] = ground_truth[['class']].replace(classes_dict)\n",
    "    predictions['class_num'] = predictions[['class']].replace(classes_dict)\n",
    "\n",
    "    predictions_lst = []\n",
    "    ground_truths_lst = []\n",
    "\n",
    "    for image_name in images:\n",
    "        filtered_predictions = predictions[map_assignment_predictions['filename'] == image_name]\n",
    "        filtered_ground_truths = ground_truth[map_assignment_ground_truth['filename'] == image_name]\n",
    "\n",
    "        predictions_lst.append({\n",
    "            'boxes': torch.tensor(filtered_predictions[['xmin', 'ymin', 'xmax', 'ymax']].to_numpy()),\n",
    "            'scores': torch.tensor(filtered_predictions['score'].to_numpy()),\n",
    "            'labels': torch.tensor(filtered_predictions['class_num'].to_numpy())\n",
    "        })\n",
    "\n",
    "        ground_truths_lst.append({\n",
    "            'boxes': torch.tensor(filtered_ground_truths[['xmin', 'ymin', 'xmax', 'ymax']].to_numpy()),\n",
    "            'labels': torch.tensor(filtered_ground_truths['class_num'].to_numpy())\n",
    "        })\n",
    "    metric = MeanAveragePrecision(class_metrics=True)\n",
    "    metric.update(predictions_lst, ground_truths_lst)\n",
    "    res = metric.compute()\n",
    "    return res\n",
    "\n",
    "pytorch_map(map_assignment_predictions, map_assignment_ground_truth)"
   ],
   "metadata": {
    "collapsed": false,
    "pycharm": {
     "name": "#%%\n"
    }
   }
  },
  {
   "cell_type": "code",
   "execution_count": 9,
   "outputs": [
    {
     "data": {
      "text/plain": "<Figure size 432x288 with 1 Axes>",
      "image/png": "[encoded data removed]"
     },
     "metadata": {
      "needs_background": "light"
     },
     "output_type": "display_data"
    },
    {
     "data": {
      "text/plain": "<Figure size 432x288 with 1 Axes>",
      "image/png": "[encoded data removed]"
     },
     "metadata": {
      "needs_background": "light"
     },
     "output_type": "display_data"
    },
    {
     "data": {
      "text/plain": "<Figure size 432x288 with 1 Axes>",
      "image/png": "[encoded data removed]"
     },
     "metadata": {
      "needs_background": "light"
     },
     "output_type": "display_data"
    },
    {
     "name": "stdout",
     "output_type": "stream",
     "text": [
      "mAP for iou 50 tensor(0.8970)\n"
     ]
    }
   ],
   "source": [
    "class MAP:\n",
    "    def __init__(self, ground_truth_data, prediction_data, iou_thresh):\n",
    "        self.ground_truth_data: pd.DataFrame = ground_truth_data.copy(deep=True)\n",
    "        self.prediction_data: pd.DataFrame = prediction_data.copy(deep=True)\n",
    "\n",
    "        self.classes = map_assignment_ground_truth['class'].unique()\n",
    "        self.num_classes = len(self.classes)\n",
    "        self.classes_dict = {cls:i for i, cls in enumerate(classes)}\n",
    "        self.ground_truth_data['class_num'] = self.ground_truth_data[['class']].replace(self.classes_dict)\n",
    "        self.prediction_data['class_num'] = self.prediction_data[['class']].replace(self.classes_dict)\n",
    "\n",
    "        self.filenames = map_assignment_ground_truth['filename'].unique()\n",
    "        #self.ground_truth_by_image =\n",
    "\n",
    "        self.iou_thresh = iou_thresh\n",
    "\n",
    "    def calculate_map(self):\n",
    "        average_precisions = []\n",
    "        for cls_name, i in self.classes_dict.items():\n",
    "            precisions, recalls = self.calculate_average_precision(i)\n",
    "            plt.plot(recalls, precisions)\n",
    "            plt.xlabel('recalls')\n",
    "            plt.ylabel('precisions')\n",
    "            plt.title(cls_name)\n",
    "            plt.show()\n",
    "            average_precisions.append(torch.trapz(precisions, recalls))\n",
    "        return sum(average_precisions) / len(average_precisions)\n",
    "\n",
    "    def calculate_average_precision(self, cls_i):\n",
    "        epsilon = 1e-6\n",
    "        detections = self.prediction_data[self.prediction_data['class_num'] == cls_i]\n",
    "        ground_truth = self.ground_truth_data[self.ground_truth_data['class_num'] == cls_i]\n",
    "\n",
    "        amount_bboxes = dict(map_assignment_ground_truth.groupby('filename')['filename'].count())\n",
    "        for key, val in amount_bboxes.items():\n",
    "            amount_bboxes[key] = torch.zeros(val)\n",
    "\n",
    "        detections = detections.sort_values(by=['score'], ascending=False)\n",
    "\n",
    "        TP = torch.zeros(len(detections))\n",
    "        FP = torch.zeros(len(detections))\n",
    "        total_true_boxes = len(ground_truth)\n",
    "\n",
    "        for detection_idx, detection in enumerate(detections.itertuples()):\n",
    "            ground_truth_bboxes_for_image = ground_truth[ground_truth['filename'] == detection.filename]\n",
    "            best_iou = 0\n",
    "            best_gt_idx = None\n",
    "            for idx, gt in enumerate(ground_truth_bboxes_for_image.itertuples()):\n",
    "                iou = self.intersection_over_union(\n",
    "                    torch.tensor([[detection.xmin, detection.ymin, detection.xmax, detection.ymax]]),\n",
    "                    torch.tensor([[gt.xmin, gt.ymin, gt.xmax, gt.ymax]]),\n",
    "                )\n",
    "                if iou > best_iou:\n",
    "                    best_iou = iou\n",
    "                    best_gt_idx = idx\n",
    "\n",
    "            if best_gt_idx is not None and best_iou > self.iou_thresh:\n",
    "                if amount_bboxes[detection.filename][best_gt_idx] == 0:\n",
    "                    TP[detection_idx] = 1\n",
    "                    amount_bboxes[detection.filename][best_gt_idx] = 1\n",
    "                else:\n",
    "                    FP[detection_idx] = 1\n",
    "\n",
    "        TP_cumsum = torch.cumsum(TP, dim=0)\n",
    "        FP_cumsum = torch.cumsum(FP, dim=0)\n",
    "        recalls = TP_cumsum / (total_true_boxes + epsilon)\n",
    "        precisions = TP_cumsum / (TP_cumsum + FP_cumsum + epsilon)\n",
    "        precisions = torch.cat((torch.tensor([1]), precisions))\n",
    "        recalls = torch.cat((torch.tensor([0]), recalls))\n",
    "        return precisions, recalls\n",
    "\n",
    "    def intersection_over_union(self, fst_bbox, scnd_bbox):\n",
    "        iou = ops.box_iou(fst_bbox, scnd_bbox)\n",
    "        return iou.numpy()[0][0]\n",
    "\n",
    "\n",
    "test = MAP(\n",
    "    ground_truth_data=map_assignment_ground_truth,\n",
    "    prediction_data=map_assignment_predictions,\n",
    "    iou_thresh=0.5,\n",
    ")\n",
    "map_50 = test.calculate_map()\n",
    "print('mAP for iou 50', map_50)"
   ],
   "metadata": {
    "collapsed": false,
    "pycharm": {
     "name": "#%%\n"
    }
   }
  }
 ],
 "metadata": {
  "kernelspec": {
   "display_name": "Python 3",
   "language": "python",
   "name": "python3"
  },
  "language_info": {
   "codemirror_mode": {
    "name": "ipython",
    "version": 2
   },
   "file_extension": ".py",
   "mimetype": "text/x-python",
   "name": "python",
   "nbconvert_exporter": "python",
   "pygments_lexer": "ipython2",
   "version": "2.7.6"
  }
 },
 "nbformat": 4,
 "nbformat_minor": 0
}