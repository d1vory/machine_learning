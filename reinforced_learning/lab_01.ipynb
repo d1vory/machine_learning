{
 "cells": [
  {
   "cell_type": "markdown",
   "source": [
    "## Exercise 2.1\n",
    "The probability to choose a greedy action is `1-eps` = `1-0.5` = `0.5`\n",
    "There are only two options to chose from, so probability to choose greedy one is `0.5 * 0.5 = 0.25`\n",
    "And result is `0.5 + 0.25 = 0.75`"
   ],
   "metadata": {
    "collapsed": false
   }
  },
  {
   "cell_type": "markdown",
   "source": [
    "## Exercise 2.2\n",
    "\n",
    "1. t1: 0, 0, 0, 0\n",
    "2. t2: 1, 0, 0, 0\n",
    "3. t3: 1, 1, 0, 0\n",
    "4. t4: 1, 1.5, 0, 0\n",
    "5. t5: 1, 1.67, 0, 0\n",
    "----------------------------\n",
    "\n",
    "1. Possibly. Q(Ak)=0 for all k if choose A1\n",
    "2. Will occur. Q(a1)>0\n",
    "3. Possibly. Q(Ak)=1 if k in[1,2]\n",
    "4. Maybe: Q(A2) = 1.5\n",
    "5. Yes: Q(A2) = 1.67"
   ],
   "metadata": {
    "collapsed": false
   }
  },
  {
   "cell_type": "code",
   "execution_count": 31,
   "metadata": {
    "collapsed": true
   },
   "outputs": [],
   "source": [
    "import numpy as np\n",
    "import matplotlib.pyplot as plt"
   ]
  },
  {
   "cell_type": "code",
   "execution_count": 28,
   "outputs": [],
   "source": [
    "class EpsilonBandit:\n",
    "\n",
    "    def __init__(self, steps_count, epsilon, k=10, means=None):\n",
    "        self.steps_count = steps_count\n",
    "        self.epsilon = epsilon\n",
    "        self.k = k\n",
    "        self.means = np.random.normal(0, 1, k) if means is None else means\n",
    "        self.rewards = np.zeros(steps_count)\n",
    "        self.mean_reward_by_arm = np.zeros(k)\n",
    "        self.steps_count_by_arm = np.zeros(k)\n",
    "\n",
    "    def _get_reward(self, step):\n",
    "        probability = np.random.rand()\n",
    "        if self.epsilon == 0 and step == 0:\n",
    "            a = np.random.choice(self.k)\n",
    "        elif probability < self.epsilon:\n",
    "            a = np.random.choice(self.k)  # selecting action\n",
    "        else:\n",
    "            a = np.argmax(self.mean_reward_by_arm)  # greedy action\n",
    "        reward = np.random.normal(self.means[a], 1)\n",
    "        return reward, a\n",
    "\n",
    "    def run(self):\n",
    "        mean_reward = 0\n",
    "        for i in range(0, self.steps_count):\n",
    "            reward, a = self._get_reward(step=i)\n",
    "\n",
    "            mean_reward = mean_reward + (reward - mean_reward) / (i+1)\n",
    "            self.steps_count_by_arm[a] = self.mean_reward_by_arm[a] + (reward - self.mean_reward_by_arm[a]) / self.steps_count_by_arm[a]\n",
    "\n",
    "            self.steps_count_by_arm[a] += 1\n",
    "\n",
    "            self.rewards[i] = mean_reward\n",
    "        return self.rewards"
   ],
   "metadata": {
    "collapsed": false,
    "pycharm": {
     "name": "#%%\n"
    }
   }
  },
  {
   "cell_type": "code",
   "execution_count": 27,
   "outputs": [],
   "source": [
    "k = 10\n",
    "means = np.random.normal(0, 1, k)"
   ],
   "metadata": {
    "collapsed": false,
    "pycharm": {
     "name": "#%%\n"
    }
   }
  },
  {
   "cell_type": "code",
   "execution_count": 61,
   "outputs": [
    {
     "name": "stderr",
     "output_type": "stream",
     "text": [
      "C:\\Users\\Olexandr\\AppData\\Local\\Temp/ipykernel_7712/1495405466.py:29: RuntimeWarning: divide by zero encountered in double_scalars\n",
      "  self.steps_count_by_arm[a] = self.mean_reward_by_arm[a] + (reward - self.mean_reward_by_arm[a]) / self.steps_count_by_arm[a]\n"
     ]
    }
   ],
   "source": [
    "x = [1/256, 1/128, 1/64, 1/32, 1/16, 1/8, 1/4, 1/2]\n",
    "x_ticks = ['1/256', '1/128', '1/64', '1/32', '1/16', '1/8', '1/4', '1/2']\n",
    "y = []\n",
    "for epsilon in x:\n",
    "    bandit = EpsilonBandit(1000, epsilon, k, means)\n",
    "    rewards = bandit.run()\n",
    "    y.append(np.mean(rewards))"
   ],
   "metadata": {
    "collapsed": false,
    "pycharm": {
     "name": "#%%\n"
    }
   }
  },
  {
   "cell_type": "code",
   "execution_count": 63,
   "outputs": [
    {
     "data": {
      "text/plain": "<Figure size 504x252 with 1 Axes>",
      "image/png": "[encoded data removed]"
     },
     "metadata": {
      "needs_background": "light"
     },
     "output_type": "display_data"
    }
   ],
   "source": [
    "plt.rcParams[\"figure.figsize\"] = [7.00, 3.50]\n",
    "plt.rcParams[\"figure.autolayout\"] = True\n",
    "default_x_ticks = range(len(x))\n",
    "plt.plot(default_x_ticks, y)\n",
    "plt.xticks(default_x_ticks, x_ticks)\n",
    "plt.show()"
   ],
   "metadata": {
    "collapsed": false,
    "pycharm": {
     "name": "#%%\n"
    }
   }
  },
  {
   "cell_type": "code",
   "execution_count": null,
   "outputs": [],
   "source": [],
   "metadata": {
    "collapsed": false,
    "pycharm": {
     "name": "#%%\n"
    }
   }
  }
 ],
 "metadata": {
  "kernelspec": {
   "display_name": "Python 3",
   "language": "python",
   "name": "python3"
  },
  "language_info": {
   "codemirror_mode": {
    "name": "ipython",
    "version": 2
   },
   "file_extension": ".py",
   "mimetype": "text/x-python",
   "name": "python",
   "nbconvert_exporter": "python",
   "pygments_lexer": "ipython2",
   "version": "2.7.6"
  }
 },
 "nbformat": 4,
 "nbformat_minor": 0
}