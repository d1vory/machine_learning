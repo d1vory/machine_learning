{
 "cells": [
  {
   "cell_type": "code",
   "execution_count": 1,
   "metadata": {},
   "outputs": [
    {
     "data": {
      "text/plain": "'sox_io'"
     },
     "execution_count": 1,
     "metadata": {},
     "output_type": "execute_result"
    }
   ],
   "source": [
    "import os \n",
    "\n",
    "import torch\n",
    "import torch.nn as nn\n",
    "import torchaudio\n",
    "\n",
    "import pandas as pd\n",
    "import torchmetrics as torchmetrics\n",
    "\n",
    "str(torchaudio.get_audio_backend())"
   ]
  },
  {
   "cell_type": "code",
   "execution_count": 3,
   "outputs": [],
   "source": [],
   "metadata": {
    "collapsed": false,
    "pycharm": {
     "name": "#%%\n"
    }
   }
  },
  {
   "cell_type": "markdown",
   "metadata": {},
   "source": [
    "## Download the dataset \n",
    "As part of HW2, you will work with the audio dataset. Download the dataset by the following [link](https://urbansounddataset.weebly.com/download-urbansound8k.html) and remember a path to it. You will have to train a sound classification model, explore different audio transformation methods and try different model architectures."
   ]
  },
  {
   "cell_type": "code",
   "execution_count": 2,
   "metadata": {},
   "outputs": [],
   "source": [
    "class UrbanSoundDataset(torch.utils.data.Dataset):\n",
    "    def __init__(self,\n",
    "                 annotations_file,\n",
    "                 audio_dir,\n",
    "                 transformation,\n",
    "                 target_sample_rate,\n",
    "                 num_samples,\n",
    "                 device):\n",
    "        self.annotations = pd.read_csv(annotations_file)\n",
    "        self.audio_dir = audio_dir\n",
    "        self.device = device\n",
    "        self.transformation = transformation.to(self.device)\n",
    "        self.target_sample_rate = target_sample_rate\n",
    "        self.num_samples = num_samples\n",
    "\n",
    "    def __len__(self):\n",
    "        return len(self.annotations)\n",
    "\n",
    "    def __getitem__(self, index):\n",
    "        audio_sample_path = self._get_audio_sample_path(index)\n",
    "        label = self._get_audio_sample_label(index)\n",
    "        signal, sr = torchaudio.load(audio_sample_path)\n",
    "        signal = signal.to(self.device)\n",
    "        signal = self._resample_if_necessary(signal, sr)\n",
    "        signal = self._mix_down_if_necessary(signal)\n",
    "        signal = self._cut_if_necessary(signal)\n",
    "        signal = self._right_pad_if_necessary(signal)\n",
    "        signal = self.transformation(signal)\n",
    "        return signal, label\n",
    "\n",
    "    def _cut_if_necessary(self, signal):\n",
    "        if signal.shape[1] > self.num_samples:\n",
    "            signal = signal[:, :self.num_samples]\n",
    "        return signal\n",
    "\n",
    "    def _right_pad_if_necessary(self, signal):\n",
    "        length_signal = signal.shape[1]\n",
    "        if length_signal < self.num_samples:\n",
    "            num_missing_samples = self.num_samples - length_signal\n",
    "            last_dim_padding = (0, num_missing_samples)\n",
    "            signal = torch.nn.functional.pad(signal, last_dim_padding)\n",
    "        return signal\n",
    "\n",
    "    def _resample_if_necessary(self, signal, sr):\n",
    "        if sr != self.target_sample_rate:\n",
    "            resampler = torchaudio.transforms.Resample(sr, self.target_sample_rate)\n",
    "            signal = resampler(signal)\n",
    "        return signal\n",
    "\n",
    "    def _mix_down_if_necessary(self, signal):\n",
    "        if signal.shape[0] > 1:\n",
    "            signal = torch.mean(signal, dim=0, keepdim=True)\n",
    "        return signal\n",
    "\n",
    "    def _get_audio_sample_path(self, index):\n",
    "        fold = f\"fold{self.annotations.iloc[index, 5]}\"\n",
    "        path = os.path.join(self.audio_dir, fold, self.annotations.iloc[\n",
    "            index, 0])\n",
    "        return path\n",
    "\n",
    "    def _get_audio_sample_label(self, index):\n",
    "        return self.annotations.iloc[index, 6]"
   ]
  },
  {
   "cell_type": "markdown",
   "metadata": {},
   "source": [
    "## Defining hyperparameters"
   ]
  },
  {
   "cell_type": "code",
   "execution_count": 3,
   "metadata": {},
   "outputs": [],
   "source": [
    "# Path to the dataset \n",
    "ANNOTATIONS_FILE = \"datasets/UrbanSound8K/metadata/UrbanSound8K.csv\"\n",
    "AUDIO_DIR = \"datasets/UrbanSound8K/audio\"\n",
    "\n",
    "# audio signal sample rate \n",
    "SAMPLE_RATE = 22050\n",
    "# max number of samples in audio\n",
    "NUM_SAMPLES = 22050\n",
    "\n",
    "# optimizer learning rate\n",
    "LEARNING_RATE = 1e-5\n",
    "# number of train epochs\n",
    "EPOCHS = 10\n",
    "# number of samples in each batch size\n",
    "BATCH_SIZE = 16\n",
    "\n",
    "device = torch.device('cuda' if torch.cuda.is_available() else 'cpu')"
   ]
  },
  {
   "cell_type": "code",
   "execution_count": 4,
   "metadata": {},
   "outputs": [],
   "source": [
    "# defining audio preprocessing function. Refer to torchaudio.transforms to \n",
    "# check Spectrogram(), MFCC() and LFCC() transfrormations. Retrain the model\n",
    "# with each transformation and write your metrics resulst and conclusaions.\n",
    "mel_spectrogram = torchaudio.transforms.MelSpectrogram(\n",
    "        sample_rate=SAMPLE_RATE,\n",
    "        n_fft=1024,\n",
    "        hop_length=512,\n",
    "        n_mels=64\n",
    ")"
   ]
  },
  {
   "cell_type": "markdown",
   "metadata": {},
   "source": [
    "## Define the dataset"
   ]
  },
  {
   "cell_type": "code",
   "execution_count": 5,
   "metadata": {},
   "outputs": [
    {
     "name": "stdout",
     "output_type": "stream",
     "text": [
      "Dataset len:  8732\n",
      "Train split: 6985 | Validation split: 873 | Test split: 874\n"
     ]
    }
   ],
   "source": [
    "# defining dataset class with \n",
    "dataset = UrbanSoundDataset(\n",
    "    ANNOTATIONS_FILE,\n",
    "    AUDIO_DIR,\n",
    "    mel_spectrogram,\n",
    "    SAMPLE_RATE,\n",
    "    NUM_SAMPLES,\n",
    "    device\n",
    ")\n",
    "\n",
    "# calculating validation split sizes\n",
    "train_size = int(len(dataset) * 0.8)\n",
    "val_test_size = len(dataset) - train_size\n",
    "\n",
    "val_size = val_test_size // 2\n",
    "test_size = val_test_size - val_size\n",
    "\n",
    "print('Dataset len: ', len(dataset))\n",
    "print(f'Train split: {train_size} | Validation split: {val_size} | Test split: {test_size}')\n",
    "\n",
    "# splitting original dataset into train and val_test sets\n",
    "train_dataset, val_dataset = torch.utils.data.random_split(\n",
    "    dataset, [train_size, val_size + test_size]\n",
    ")\n",
    "# splitting val_test set into val dataset and test dataset\n",
    "val_dataset, test_dataset = torch.utils.data.random_split(\n",
    "    val_dataset, [val_size, test_size]\n",
    ")"
   ]
  },
  {
   "cell_type": "code",
   "execution_count": 6,
   "metadata": {},
   "outputs": [],
   "source": [
    "signal, label = dataset[0]"
   ]
  },
  {
   "cell_type": "code",
   "execution_count": 6,
   "outputs": [],
   "source": [
    "\n"
   ],
   "metadata": {
    "collapsed": false,
    "pycharm": {
     "name": "#%%\n"
    }
   }
  },
  {
   "cell_type": "markdown",
   "metadata": {},
   "source": [
    "## Model\n",
    "\n",
    "Define your model architecture here. \n",
    "\n",
    "1) Build a baseline model that consists of consecutive convolution blocks. Flatten the convolution output and pass through the linear layer with softmax activation function, to obtain class distributions\n",
    "\n",
    "2) Add the BatchNorm layer after each convolution block and compare the results with the baseline model\n",
    "\n",
    "3) Add a Dropout layer after each BatchNorm block and compare the results\n",
    "\n",
    "4) Try different parameters for the blocks:\n",
    " - Conv layer: out_channels, kernel_size, stride\n",
    " - Dropout: p\n",
    " \n",
    " and compare the results"
   ]
  },
  {
   "cell_type": "code",
   "execution_count": 22,
   "metadata": {},
   "outputs": [],
   "source": [
    "# Class CLModel to define your model architecture and computational graph\n",
    "class CLModel(nn.Module):\n",
    "    def __init__(self):\n",
    "        super().__init__()\n",
    "        ################\n",
    "\n",
    "        # YOUR CODE HERE\n",
    "        # define you convolution based classification model\n",
    "        # 4 conv blocks / flatten / linear / softmax\n",
    "\n",
    "        ################\n",
    "\n",
    "        self.conv1 = nn.Sequential(\n",
    "                nn.Conv2d(\n",
    "                    in_channels=1,\n",
    "                    out_channels=8,\n",
    "                    kernel_size=(3,3),\n",
    "                    padding=2\n",
    "                ),\n",
    "                nn.ReLU(),\n",
    "                nn.MaxPool2d(kernel_size=2),\n",
    "                nn.BatchNorm2d(8),\n",
    "                nn.Dropout(0.1)\n",
    "            )\n",
    "        self.conv2 = nn.Sequential(\n",
    "            nn.Conv2d(\n",
    "                in_channels=8,\n",
    "                out_channels=16,\n",
    "                kernel_size=(3,3),\n",
    "                padding=2\n",
    "            ),\n",
    "            nn.ReLU(),\n",
    "            nn.MaxPool2d(kernel_size=2),\n",
    "            nn.BatchNorm2d(16),\n",
    "            nn.Dropout(0.1)\n",
    "        )\n",
    "        self.conv3 = nn.Sequential(\n",
    "            nn.Conv2d(\n",
    "                in_channels=16,\n",
    "                out_channels=32,\n",
    "                kernel_size=(3,3),\n",
    "                padding=2\n",
    "            ),\n",
    "            nn.ReLU(),\n",
    "            nn.MaxPool2d(kernel_size=2),\n",
    "            nn.BatchNorm2d(32),\n",
    "            nn.Dropout(0.1)\n",
    "        )\n",
    "        self.conv4 = nn.Sequential(\n",
    "            nn.Conv2d(\n",
    "                in_channels=32,\n",
    "                out_channels=64,\n",
    "                kernel_size=(3,3),\n",
    "                padding=2\n",
    "            ),\n",
    "            nn.ReLU(),\n",
    "            nn.MaxPool2d(kernel_size=2),\n",
    "            nn.BatchNorm2d(64),\n",
    "            nn.Dropout(0.1)\n",
    "        )\n",
    "        self.flatten = nn.Flatten()\n",
    "        self.linear = nn.Linear(1280, 10)\n",
    "        self.softmax = nn.Softmax(dim=1)\n",
    "\n",
    "\n",
    "    def forward(self, input_data: torch.Tensor) -> torch.Tensor:\n",
    "        ################\n",
    "\n",
    "        # YOUR CODE HERE\n",
    "        # define the logic of your computational graph\n",
    "\n",
    "        ################\n",
    "        # Run the convolutional blocks\n",
    "        x = self.conv1(input_data)\n",
    "        x = self.conv2(x)\n",
    "        x = self.conv3(x)\n",
    "        x = self.conv4(x)\n",
    "        x = self.flatten(x)\n",
    "        logits = self.linear(x)\n",
    "        predictions = self.softmax(logits)\n",
    "        return predictions\n",
    "\n",
    "        # data = data.view(data.shape[0], -1)\n",
    "        # data = self.lin(data)\n",
    "        # data = self.softmax(data)\n",
    "\n",
    "        #return data\n"
   ]
  },
  {
   "cell_type": "code",
   "execution_count": 23,
   "outputs": [
    {
     "data": {
      "text/plain": "1280.0"
     },
     "execution_count": 23,
     "metadata": {},
     "output_type": "execute_result"
    }
   ],
   "source": [
    "5120 / 4\n"
   ],
   "metadata": {
    "collapsed": false,
    "pycharm": {
     "name": "#%%\n"
    }
   }
  },
  {
   "cell_type": "code",
   "execution_count": 24,
   "metadata": {},
   "outputs": [
    {
     "name": "stdout",
     "output_type": "stream",
     "text": [
      "==========================================================================================\n",
      "Layer (type:depth-idx)                   Output Shape              Param #\n",
      "==========================================================================================\n",
      "├─Sequential: 1-1                        [-1, 8, 33, 23]           --\n",
      "|    └─Conv2d: 2-1                       [-1, 8, 66, 46]           80\n",
      "|    └─ReLU: 2-2                         [-1, 8, 66, 46]           --\n",
      "|    └─MaxPool2d: 2-3                    [-1, 8, 33, 23]           --\n",
      "|    └─BatchNorm2d: 2-4                  [-1, 8, 33, 23]           16\n",
      "|    └─Dropout: 2-5                      [-1, 8, 33, 23]           --\n",
      "├─Sequential: 1-2                        [-1, 16, 17, 12]          --\n",
      "|    └─Conv2d: 2-6                       [-1, 16, 35, 25]          1,168\n",
      "|    └─ReLU: 2-7                         [-1, 16, 35, 25]          --\n",
      "|    └─MaxPool2d: 2-8                    [-1, 16, 17, 12]          --\n",
      "|    └─BatchNorm2d: 2-9                  [-1, 16, 17, 12]          32\n",
      "|    └─Dropout: 2-10                     [-1, 16, 17, 12]          --\n",
      "├─Sequential: 1-3                        [-1, 32, 9, 7]            --\n",
      "|    └─Conv2d: 2-11                      [-1, 32, 19, 14]          4,640\n",
      "|    └─ReLU: 2-12                        [-1, 32, 19, 14]          --\n",
      "|    └─MaxPool2d: 2-13                   [-1, 32, 9, 7]            --\n",
      "|    └─BatchNorm2d: 2-14                 [-1, 32, 9, 7]            64\n",
      "|    └─Dropout: 2-15                     [-1, 32, 9, 7]            --\n",
      "├─Sequential: 1-4                        [-1, 64, 5, 4]            --\n",
      "|    └─Conv2d: 2-16                      [-1, 64, 11, 9]           18,496\n",
      "|    └─ReLU: 2-17                        [-1, 64, 11, 9]           --\n",
      "|    └─MaxPool2d: 2-18                   [-1, 64, 5, 4]            --\n",
      "|    └─BatchNorm2d: 2-19                 [-1, 64, 5, 4]            128\n",
      "|    └─Dropout: 2-20                     [-1, 64, 5, 4]            --\n",
      "├─Flatten: 1-5                           [-1, 1280]                --\n",
      "├─Linear: 1-6                            [-1, 10]                  12,810\n",
      "├─Softmax: 1-7                           [-1, 10]                  --\n",
      "==========================================================================================\n",
      "Total params: 37,434\n",
      "Trainable params: 37,434\n",
      "Non-trainable params: 0\n",
      "Total mult-adds (M): 4.31\n",
      "==========================================================================================\n",
      "Input size (MB): 0.01\n",
      "Forward/backward pass size (MB): 0.50\n",
      "Params size (MB): 0.14\n",
      "Estimated Total Size (MB): 0.66\n",
      "==========================================================================================\n"
     ]
    },
    {
     "data": {
      "text/plain": "==========================================================================================\nLayer (type:depth-idx)                   Output Shape              Param #\n==========================================================================================\n├─Sequential: 1-1                        [-1, 8, 33, 23]           --\n|    └─Conv2d: 2-1                       [-1, 8, 66, 46]           80\n|    └─ReLU: 2-2                         [-1, 8, 66, 46]           --\n|    └─MaxPool2d: 2-3                    [-1, 8, 33, 23]           --\n|    └─BatchNorm2d: 2-4                  [-1, 8, 33, 23]           16\n|    └─Dropout: 2-5                      [-1, 8, 33, 23]           --\n├─Sequential: 1-2                        [-1, 16, 17, 12]          --\n|    └─Conv2d: 2-6                       [-1, 16, 35, 25]          1,168\n|    └─ReLU: 2-7                         [-1, 16, 35, 25]          --\n|    └─MaxPool2d: 2-8                    [-1, 16, 17, 12]          --\n|    └─BatchNorm2d: 2-9                  [-1, 16, 17, 12]          32\n|    └─Dropout: 2-10                     [-1, 16, 17, 12]          --\n├─Sequential: 1-3                        [-1, 32, 9, 7]            --\n|    └─Conv2d: 2-11                      [-1, 32, 19, 14]          4,640\n|    └─ReLU: 2-12                        [-1, 32, 19, 14]          --\n|    └─MaxPool2d: 2-13                   [-1, 32, 9, 7]            --\n|    └─BatchNorm2d: 2-14                 [-1, 32, 9, 7]            64\n|    └─Dropout: 2-15                     [-1, 32, 9, 7]            --\n├─Sequential: 1-4                        [-1, 64, 5, 4]            --\n|    └─Conv2d: 2-16                      [-1, 64, 11, 9]           18,496\n|    └─ReLU: 2-17                        [-1, 64, 11, 9]           --\n|    └─MaxPool2d: 2-18                   [-1, 64, 5, 4]            --\n|    └─BatchNorm2d: 2-19                 [-1, 64, 5, 4]            128\n|    └─Dropout: 2-20                     [-1, 64, 5, 4]            --\n├─Flatten: 1-5                           [-1, 1280]                --\n├─Linear: 1-6                            [-1, 10]                  12,810\n├─Softmax: 1-7                           [-1, 10]                  --\n==========================================================================================\nTotal params: 37,434\nTrainable params: 37,434\nNon-trainable params: 0\nTotal mult-adds (M): 4.31\n==========================================================================================\nInput size (MB): 0.01\nForward/backward pass size (MB): 0.50\nParams size (MB): 0.14\nEstimated Total Size (MB): 0.66\n=========================================================================================="
     },
     "execution_count": 24,
     "metadata": {},
     "output_type": "execute_result"
    }
   ],
   "source": [
    "cnn = CLModel()\n",
    "from torchsummary import summary\n",
    "summary(cnn, (1, 64, 44))"
   ]
  },
  {
   "cell_type": "markdown",
   "metadata": {},
   "source": [
    "## Train and evaluation functions"
   ]
  },
  {
   "cell_type": "code",
   "execution_count": 25,
   "metadata": {},
   "outputs": [],
   "source": [
    "def create_data_loader(data, batch_size:int, shuffle:bool=False) -> torch.utils.data.DataLoader:\n",
    "    ''' creating dataloader  \n",
    "            Arguments:\n",
    "                batch_size: int\n",
    "                    number of samples to process for the model\n",
    "                shuffle: bool\n",
    "                    whether to shuffle dataset. \n",
    "    '''\n",
    "    dataloader = torch.utils.data.DataLoader(data, batch_size=batch_size, shuffle=shuffle)\n",
    "    return dataloader\n",
    "\n",
    "def train_single_epoch(\n",
    "    model:nn.Module, \n",
    "    data_loader:torch.utils.data.DataLoader, \n",
    "    loss_fn:torch.nn.modules.loss, \n",
    "    optimiser:torch.optim,\n",
    "    metrics,\n",
    "    device:torch.device\n",
    "):\n",
    "    ''' method to perform single epoch of training '''\n",
    "\n",
    "    rolling_loss = 0.\n",
    "    #rolling_metric = 0.\n",
    "    rolling_metric = metrics()\n",
    "    for input, target in data_loader:\n",
    "        input, target = input.to(device), target.to(device)\n",
    "        ################\n",
    "\n",
    "        # YOUR CODE HERE \n",
    "        optimiser.zero_grad()\n",
    "        # step 1: pass input tensor through the model\n",
    "        output = cnn(input)\n",
    "\n",
    "        # step 2: compute loss\n",
    "        loss = loss_fn(output, target)\n",
    "\n",
    "        # step 3: update optimizer and do a backward for the loss function\n",
    "        loss.backward()\n",
    "        optimiser.step()\n",
    "\n",
    "        #print(f\"loss: {loss.item()}\")\n",
    "\n",
    "        _, prediction = torch.max(output,1)\n",
    "        # step 5 (final): compute train epoch loss and metrics\n",
    "        rolling_loss += loss.item()\n",
    "        rolling_metric(prediction, target)\n",
    "        #rolling_metric += (prediction == target ).float().sum()\n",
    "        #metric = metrics(prediction, target)\n",
    "        #print(f\"metric: {metric}\")\n",
    "        #rolling_metric += metric\n",
    "\n",
    "    ################\n",
    "    total_rolling_metric = rolling_metric.compute()\n",
    "    print(f'Train loss: {rolling_loss} | Train metric: {total_rolling_metric}')\n",
    "\n",
    "\n",
    "def evaluate(\n",
    "    model:nn.Module,\n",
    "    val_dataloader:torch.utils.data.DataLoader, \n",
    "    loss_fn:torch.nn.modules.loss, \n",
    "    metrics, # define you type here  \n",
    "    device:torch.device):\n",
    "    ''' method to perform evaluation step '''\n",
    "\n",
    "    rolling_loss = 0.\n",
    "    rolling_metric = metrics()\n",
    "    for input, target in val_dataloader: \n",
    "        input, target = input.to(device), target.to(device)\n",
    "        ################\n",
    "\n",
    "        # YOUR CODE HERE \n",
    "\n",
    "        # step 1: pass input tensor through the model\n",
    "        output = cnn(input)\n",
    "        # step 2: compute loss and metrics\n",
    "        loss = loss_fn(output, target)\n",
    "        _, prediction = torch.max(output,1)\n",
    "\n",
    "        rolling_loss += loss.item()\n",
    "        #rolling_metric += metrics(prediction, target)\n",
    "        rolling_metric(prediction, target)\n",
    "    ################\n",
    "    total_rolling_metric = rolling_metric.compute()\n",
    "\n",
    "    print(f'Validation loss: {rolling_loss} | Validation metric: {total_rolling_metric}')\n",
    "    return rolling_loss, total_rolling_metric\n",
    "    \n",
    "\n",
    "def train(model, train_dataloader, val_dataloader, loss_fn, metrics, optimiser, device, epochs):\n",
    "    for i in range(epochs):\n",
    "        print(f\"Epoch {i+1}\")\n",
    "        train_single_epoch(model, train_dataloader, loss_fn, optimiser, metrics, device)\n",
    "        evaluate(model, val_dataloader, loss_fn, metrics, device)\n",
    "    print(\"Finished training\")\n"
   ]
  },
  {
   "cell_type": "code",
   "execution_count": 26,
   "metadata": {},
   "outputs": [
    {
     "name": "stdout",
     "output_type": "stream",
     "text": [
      "Epoch 1\n",
      "Train loss: 998.8836898803711 | Train metric: 0.16062992811203003\n",
      "Validation loss: 124.62268495559692 | Validation metric: 0.19702176749706268\n",
      "Epoch 2\n",
      "Train loss: 984.9592459201813 | Train metric: 0.22233356535434723\n",
      "Validation loss: 123.28147768974304 | Validation metric: 0.23825888335704803\n",
      "Epoch 3\n",
      "Train loss: 978.1064622402191 | Train metric: 0.239942729473114\n",
      "Validation loss: 122.54666423797607 | Validation metric: 0.256586492061615\n",
      "Epoch 4\n",
      "Train loss: 972.9068253040314 | Train metric: 0.251252681016922\n",
      "Validation loss: 121.88525295257568 | Validation metric: 0.26345932483673096\n",
      "Epoch 5\n",
      "Train loss: 968.2741222381592 | Train metric: 0.26771652698516846\n",
      "Validation loss: 121.27609181404114 | Validation metric: 0.27491408586502075\n",
      "Epoch 6\n",
      "Train loss: 962.7711160182953 | Train metric: 0.28690049052238464\n",
      "Validation loss: 120.7810492515564 | Validation metric: 0.28407788276672363\n",
      "Epoch 7\n",
      "Train loss: 957.2013754844666 | Train metric: 0.3065139651298523\n",
      "Validation loss: 119.84972190856934 | Validation metric: 0.3069874048233032\n",
      "Epoch 8\n",
      "Train loss: 950.2047318220139 | Train metric: 0.32168933749198914\n",
      "Validation loss: 119.2641453742981 | Validation metric: 0.3069874048233032\n",
      "Epoch 9\n",
      "Train loss: 942.7711864709854 | Train metric: 0.3301360011100769\n",
      "Validation loss: 118.1331616640091 | Validation metric: 0.32875144481658936\n",
      "Epoch 10\n",
      "Train loss: 936.1432443857193 | Train metric: 0.34015747904777527\n",
      "Validation loss: 117.56298792362213 | Validation metric: 0.34020617604255676\n",
      "Epoch 11\n",
      "Train loss: 930.0615706443787 | Train metric: 0.34803149104118347\n",
      "Validation loss: 117.17630541324615 | Validation metric: 0.3390607237815857\n",
      "Epoch 12\n",
      "Train loss: 926.1465067863464 | Train metric: 0.36234790086746216\n",
      "Validation loss: 116.5131163597107 | Validation metric: 0.36884307861328125\n",
      "Epoch 13\n",
      "Train loss: 921.1659986972809 | Train metric: 0.3760916292667389\n",
      "Validation loss: 116.08983016014099 | Validation metric: 0.37457045912742615\n",
      "Epoch 14\n",
      "Train loss: 917.7462306022644 | Train metric: 0.383536159992218\n",
      "Validation loss: 115.6213926076889 | Validation metric: 0.3814432919025421\n",
      "Epoch 15\n",
      "Train loss: 914.6914384365082 | Train metric: 0.3918396532535553\n",
      "Validation loss: 115.09561836719513 | Validation metric: 0.3951890170574188\n",
      "Epoch 16\n",
      "Train loss: 912.1099314689636 | Train metric: 0.39541876316070557\n",
      "Validation loss: 114.65776026248932 | Validation metric: 0.39977091550827026\n",
      "Finished training\n",
      "Trained feed forward net saved at feedforwardnet.pth\n"
     ]
    }
   ],
   "source": [
    "# YOUR CODE HERE\n",
    "# Define your loss function, optimization algorithm, and a metric function(s)\n",
    "loss_fn = nn.CrossEntropyLoss()\n",
    "optimiser = torch.optim.Adam(cnn.parameters(),lr=LEARNING_RATE)\n",
    "metrics = torchmetrics.Accuracy\n",
    "\n",
    "train_dataloader = create_data_loader(train_dataset, BATCH_SIZE)\n",
    "val_dataloader = create_data_loader(val_dataset, BATCH_SIZE)\n",
    "test_dataloader = create_data_loader(test_dataset, BATCH_SIZE)\n",
    "\n",
    "\n",
    "# train model\n",
    "train(cnn, train_dataloader, val_dataloader, loss_fn, metrics, optimiser, device, EPOCHS)\n",
    "\n",
    "# save model\n",
    "torch.save(cnn.state_dict(), \"feedforwardnet.pth\")\n",
    "print(\"Trained feed forward net saved at feedforwardnet.pth\")"
   ]
  },
  {
   "cell_type": "code",
   "execution_count": 28,
   "metadata": {},
   "outputs": [
    {
     "name": "stdout",
     "output_type": "stream",
     "text": [
      "Validation loss: 113.99556267261505 | Validation metric: 0.4050343334674835\n",
      "Validation loss: 115.13658308982849 | Validation metric: 0.38373425602912903\n",
      "Test loss: 113.99556267261505 | Test accuracy: 0.4050343334674835\n",
      "Validation loss: 113.99556267261505 | Validation accuracy: 0.38373425602912903\n"
     ]
    }
   ],
   "source": [
    "################\n",
    "\n",
    "# YOUR CODE HERE\n",
    "# evaluate your model on test split\n",
    "\n",
    "test_loss, test_accuracy =  evaluate(cnn, test_dataloader, loss_fn, metrics, device)\n",
    "val_loss, val_accuracy = evaluate(cnn, val_dataloader, loss_fn, metrics, device)\n",
    "\n",
    "print(f'Test loss: {test_loss} | Test accuracy: {test_accuracy}')\n",
    "print(f'Validation loss: {test_loss} | Validation accuracy: {val_accuracy}')\n",
    "################"
   ]
  },
  {
   "cell_type": "markdown",
   "metadata": {},
   "source": [
    "## Results\n",
    "1) Write a litter summary of the audio transformation methods (1-2 sentences), and explore them on your own\n",
    "\n",
    "2) Create a table with the model performance comparison. The table should include short model summary (ex. 4xConvBlocks - Flatten - Linear - Softmax), comments about hyperparameters (ex. ConvBlocks: [64, 64, 64, 64] - Dropout: 0.2, etc.) and metrics values for validation and test datasets.\n",
    "\n",
    "3) Train baseline model with 4x ConvBlocks - Flatten - Linear - Softmax\n",
    "\n",
    "4) Train baseline model with BatchNorm\n",
    "\n",
    "5) Train baseline model with BatchNorm and Dropout\n",
    "\n",
    "6) Train 5 model models with different hyperparameters\n",
    "\n",
    "7) Add all models to a table \n",
    "\n",
    "8) Write an explanation to the table and indicate the best model parameters and architecture"
   ]
  },
  {
   "cell_type": "markdown",
   "source": [],
   "metadata": {
    "collapsed": false,
    "pycharm": {
     "name": "#%% md\n"
    }
   }
  }
 ],
 "metadata": {
  "kernelspec": {
   "display_name": "Python 3.8.8 64-bit",
   "language": "python",
   "name": "python3"
  },
  "language_info": {
   "codemirror_mode": {
    "name": "ipython",
    "version": 3
   },
   "file_extension": ".py",
   "mimetype": "text/x-python",
   "name": "python",
   "nbconvert_exporter": "python",
   "pygments_lexer": "ipython3",
   "version": "3.8.8"
  },
  "orig_nbformat": 4,
  "vscode": {
   "interpreter": {
    "hash": "0adcc2737ebf6a4a119f135174df96668767fca1ef1112612db5ecadf2b6d608"
   }
  }
 },
 "nbformat": 4,
 "nbformat_minor": 2
}