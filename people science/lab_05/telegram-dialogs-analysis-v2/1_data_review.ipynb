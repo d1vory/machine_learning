{
 "cells": [
  {
   "cell_type": "markdown",
   "id": "680ac1fd",
   "metadata": {},
   "source": [
    "## Homework #3. Crowdsourcing tools review\n",
    "#### Author: `<FIRST NAME> <SECOND NAME>`\n",
    "#### Total time spent on h/w (in minutes): `<number>`"
   ]
  },
  {
   "cell_type": "code",
   "execution_count": 88,
   "id": "09b4e301",
   "metadata": {},
   "outputs": [],
   "source": [
    "import pandas as pd\n",
    "import matplotlib.pyplot as plt\n",
    "import datetime"
   ]
  },
  {
   "cell_type": "code",
   "execution_count": 2,
   "id": "d076df7c",
   "metadata": {},
   "outputs": [],
   "source": [
    "DIALOGS_MERGED_DATA_PATH = \"../data/merged_data/dialogs_data_all.csv\"\n",
    "DIALOGS_META_MERGED_DATA_PATH = \"../data/merged_data/dialogs_users_all.csv\""
   ]
  },
  {
   "cell_type": "code",
   "execution_count": 3,
   "id": "6d0eddab",
   "metadata": {},
   "outputs": [
    {
     "name": "stderr",
     "output_type": "stream",
     "text": [
      "C:\\Users\\Olexandr\\AppData\\Local\\Temp/ipykernel_19536/1251569782.py:1: DtypeWarning: Columns (2,3) have mixed types. Specify dtype option on import or set low_memory=False.\n",
      "  df = pd.read_csv(DIALOGS_MERGED_DATA_PATH)\n"
     ]
    }
   ],
   "source": [
    "df = pd.read_csv(DIALOGS_MERGED_DATA_PATH)\n",
    "df_meta = pd.read_csv(DIALOGS_META_MERGED_DATA_PATH)"
   ]
  },
  {
   "cell_type": "markdown",
   "id": "965d42ec",
   "metadata": {},
   "source": [
    "## Task 2.1\n",
    "## Messages data analysis"
   ]
  },
  {
   "cell_type": "code",
   "execution_count": 4,
   "id": "4672e8ce",
   "metadata": {},
   "outputs": [
    {
     "name": "stdout",
     "output_type": "stream",
     "text": [
      "a\n"
     ]
    },
    {
     "data": {
      "text/plain": "      id                       date from_id  \\\n0  59794  2022-11-01 20:00:09+00:00     NaN   \n1  59793  2022-11-01 19:37:27+00:00     NaN   \n2  59792  2022-11-01 19:37:27+00:00     NaN   \n3  59791  2022-11-01 19:37:27+00:00     NaN   \n4  59790  2022-11-01 19:37:27+00:00     NaN   \n5  59789  2022-11-01 19:37:27+00:00     NaN   \n6  59788  2022-11-01 19:37:27+00:00     NaN   \n7  59787  2022-11-01 19:37:27+00:00     NaN   \n8  59786  2022-11-01 19:37:26+00:00     NaN   \n9  59785  2022-11-01 19:37:26+00:00     NaN   \n\n                                to_id  \\\n0  PeerChannel(channel_id=1166834860)   \n1  PeerChannel(channel_id=1166834860)   \n2  PeerChannel(channel_id=1166834860)   \n3  PeerChannel(channel_id=1166834860)   \n4  PeerChannel(channel_id=1166834860)   \n5  PeerChannel(channel_id=1166834860)   \n6  PeerChannel(channel_id=1166834860)   \n7  PeerChannel(channel_id=1166834860)   \n8  PeerChannel(channel_id=1166834860)   \n9  PeerChannel(channel_id=1166834860)   \n\n                                            fwd_from  \\\n0                                                NaN   \n1  MessageFwdHeader(date=datetime.datetime(2022, ...   \n2  MessageFwdHeader(date=datetime.datetime(2022, ...   \n3  MessageFwdHeader(date=datetime.datetime(2022, ...   \n4  MessageFwdHeader(date=datetime.datetime(2022, ...   \n5  MessageFwdHeader(date=datetime.datetime(2022, ...   \n6  MessageFwdHeader(date=datetime.datetime(2022, ...   \n7  MessageFwdHeader(date=datetime.datetime(2022, ...   \n8  MessageFwdHeader(date=datetime.datetime(2022, ...   \n9  MessageFwdHeader(date=datetime.datetime(2022, ...   \n\n                                             message   type  duration  \\\n0  ❗️Глава Минобороны Турции Хулуси Акар: турецки...   text       NaN   \n1                                                NaN  photo       NaN   \n2                                                NaN  photo       NaN   \n3                                                NaN  photo       NaN   \n4                                                NaN  photo       NaN   \n5                                                NaN  photo       NaN   \n6                                                NaN  photo       NaN   \n7                                                NaN  photo       NaN   \n8                                                NaN  photo       NaN   \n9                                                NaN  photo       NaN   \n\n       dialog_id  \n0 -1001166834860  \n1 -1001166834860  \n2 -1001166834860  \n3 -1001166834860  \n4 -1001166834860  \n5 -1001166834860  \n6 -1001166834860  \n7 -1001166834860  \n8 -1001166834860  \n9 -1001166834860  ",
      "text/html": "<div>\n<style scoped>\n    .dataframe tbody tr th:only-of-type {\n        vertical-align: middle;\n    }\n\n    .dataframe tbody tr th {\n        vertical-align: top;\n    }\n\n    .dataframe thead th {\n        text-align: right;\n    }\n</style>\n<table border=\"1\" class=\"dataframe\">\n  <thead>\n    <tr style=\"text-align: right;\">\n      <th></th>\n      <th>id</th>\n      <th>date</th>\n      <th>from_id</th>\n      <th>to_id</th>\n      <th>fwd_from</th>\n      <th>message</th>\n      <th>type</th>\n      <th>duration</th>\n      <th>dialog_id</th>\n    </tr>\n  </thead>\n  <tbody>\n    <tr>\n      <th>0</th>\n      <td>59794</td>\n      <td>2022-11-01 20:00:09+00:00</td>\n      <td>NaN</td>\n      <td>PeerChannel(channel_id=1166834860)</td>\n      <td>NaN</td>\n      <td>❗️Глава Минобороны Турции Хулуси Акар: турецки...</td>\n      <td>text</td>\n      <td>NaN</td>\n      <td>-1001166834860</td>\n    </tr>\n    <tr>\n      <th>1</th>\n      <td>59793</td>\n      <td>2022-11-01 19:37:27+00:00</td>\n      <td>NaN</td>\n      <td>PeerChannel(channel_id=1166834860)</td>\n      <td>MessageFwdHeader(date=datetime.datetime(2022, ...</td>\n      <td>NaN</td>\n      <td>photo</td>\n      <td>NaN</td>\n      <td>-1001166834860</td>\n    </tr>\n    <tr>\n      <th>2</th>\n      <td>59792</td>\n      <td>2022-11-01 19:37:27+00:00</td>\n      <td>NaN</td>\n      <td>PeerChannel(channel_id=1166834860)</td>\n      <td>MessageFwdHeader(date=datetime.datetime(2022, ...</td>\n      <td>NaN</td>\n      <td>photo</td>\n      <td>NaN</td>\n      <td>-1001166834860</td>\n    </tr>\n    <tr>\n      <th>3</th>\n      <td>59791</td>\n      <td>2022-11-01 19:37:27+00:00</td>\n      <td>NaN</td>\n      <td>PeerChannel(channel_id=1166834860)</td>\n      <td>MessageFwdHeader(date=datetime.datetime(2022, ...</td>\n      <td>NaN</td>\n      <td>photo</td>\n      <td>NaN</td>\n      <td>-1001166834860</td>\n    </tr>\n    <tr>\n      <th>4</th>\n      <td>59790</td>\n      <td>2022-11-01 19:37:27+00:00</td>\n      <td>NaN</td>\n      <td>PeerChannel(channel_id=1166834860)</td>\n      <td>MessageFwdHeader(date=datetime.datetime(2022, ...</td>\n      <td>NaN</td>\n      <td>photo</td>\n      <td>NaN</td>\n      <td>-1001166834860</td>\n    </tr>\n    <tr>\n      <th>5</th>\n      <td>59789</td>\n      <td>2022-11-01 19:37:27+00:00</td>\n      <td>NaN</td>\n      <td>PeerChannel(channel_id=1166834860)</td>\n      <td>MessageFwdHeader(date=datetime.datetime(2022, ...</td>\n      <td>NaN</td>\n      <td>photo</td>\n      <td>NaN</td>\n      <td>-1001166834860</td>\n    </tr>\n    <tr>\n      <th>6</th>\n      <td>59788</td>\n      <td>2022-11-01 19:37:27+00:00</td>\n      <td>NaN</td>\n      <td>PeerChannel(channel_id=1166834860)</td>\n      <td>MessageFwdHeader(date=datetime.datetime(2022, ...</td>\n      <td>NaN</td>\n      <td>photo</td>\n      <td>NaN</td>\n      <td>-1001166834860</td>\n    </tr>\n    <tr>\n      <th>7</th>\n      <td>59787</td>\n      <td>2022-11-01 19:37:27+00:00</td>\n      <td>NaN</td>\n      <td>PeerChannel(channel_id=1166834860)</td>\n      <td>MessageFwdHeader(date=datetime.datetime(2022, ...</td>\n      <td>NaN</td>\n      <td>photo</td>\n      <td>NaN</td>\n      <td>-1001166834860</td>\n    </tr>\n    <tr>\n      <th>8</th>\n      <td>59786</td>\n      <td>2022-11-01 19:37:26+00:00</td>\n      <td>NaN</td>\n      <td>PeerChannel(channel_id=1166834860)</td>\n      <td>MessageFwdHeader(date=datetime.datetime(2022, ...</td>\n      <td>NaN</td>\n      <td>photo</td>\n      <td>NaN</td>\n      <td>-1001166834860</td>\n    </tr>\n    <tr>\n      <th>9</th>\n      <td>59785</td>\n      <td>2022-11-01 19:37:26+00:00</td>\n      <td>NaN</td>\n      <td>PeerChannel(channel_id=1166834860)</td>\n      <td>MessageFwdHeader(date=datetime.datetime(2022, ...</td>\n      <td>NaN</td>\n      <td>photo</td>\n      <td>NaN</td>\n      <td>-1001166834860</td>\n    </tr>\n  </tbody>\n</table>\n</div>"
     },
     "execution_count": 4,
     "metadata": {},
     "output_type": "execute_result"
    }
   ],
   "source": [
    "print('a')\n",
    "df.head(10)"
   ]
  },
  {
   "cell_type": "code",
   "execution_count": 5,
   "id": "16776850",
   "metadata": {},
   "outputs": [
    {
     "data": {
      "text/plain": "(176242, 9)"
     },
     "execution_count": 5,
     "metadata": {},
     "output_type": "execute_result"
    }
   ],
   "source": [
    "df.shape"
   ]
  },
  {
   "cell_type": "code",
   "execution_count": 6,
   "id": "d1bd96f3",
   "metadata": {},
   "outputs": [
    {
     "data": {
      "text/plain": "('2020-09-22 14:44:10+00:00', '2022-11-01 20:01:47+00:00')"
     },
     "execution_count": 6,
     "metadata": {},
     "output_type": "execute_result"
    }
   ],
   "source": [
    "min(df[\"date\"]),max(df[\"date\"])"
   ]
  },
  {
   "cell_type": "code",
   "execution_count": 7,
   "id": "2a1aafab",
   "metadata": {},
   "outputs": [
    {
     "data": {
      "text/plain": "type\nphoto       38382\nsticker       241\ntext       115345\nvideo       22249\nvoice          25\nName: type, dtype: int64"
     },
     "execution_count": 7,
     "metadata": {},
     "output_type": "execute_result"
    }
   ],
   "source": [
    "df.groupby([\"type\"])[\"type\"].count()"
   ]
  },
  {
   "cell_type": "code",
   "execution_count": 8,
   "id": "66a677a9",
   "metadata": {
    "scrolled": true
   },
   "outputs": [
    {
     "data": {
      "text/plain": "type\nphoto           0.0\nsticker         0.0\ntext            0.0\nvideo      961006.0\nvoice         823.0\nName: duration, dtype: float64"
     },
     "execution_count": 8,
     "metadata": {},
     "output_type": "execute_result"
    }
   ],
   "source": [
    "df.groupby([\"type\"])[\"duration\"].sum()"
   ]
  },
  {
   "cell_type": "markdown",
   "id": "451dca5a",
   "metadata": {},
   "source": [
    "## Tasks to do:\n",
    "\n",
    "1. Define your telegram ID (https://www.alphr.com/telegram-find-user-id/)."
   ]
  },
  {
   "cell_type": "code",
   "execution_count": 9,
   "id": "b251314f",
   "metadata": {},
   "outputs": [],
   "source": [
    "USER_ID = 5146177904\n",
    "USER_ID_STRING = f'PeerUser(user_id={USER_ID})'"
   ]
  },
  {
   "cell_type": "markdown",
   "id": "90150527",
   "metadata": {},
   "source": [
    "2. Check on examples that the data you downloaded reflects your telegram messages. Make screenshots (insert your screenshots in this notebook) of 3 different messages in TG and related rows in your dataset here."
   ]
  },
  {
   "cell_type": "code",
   "execution_count": 10,
   "outputs": [
    {
     "data": {
      "text/plain": "          id                       date from_id       to_id fwd_from  \\\n114861  7068  2022-03-10 11:16:45+00:00     NaN  5146177904      NaN   \n114862   439  2022-03-09 21:16:53+00:00     NaN  5146177904      NaN   \n114863   438  2022-03-09 21:16:43+00:00     NaN  5146177904      NaN   \n\n                             message  type  duration   dialog_id  \n114861  this message will be deleted  text       NaN  5146177904  \n114862  this message will be deleted  text       NaN  5146177904  \n114863  this message will be deleted  text       NaN  5146177904  ",
      "text/html": "<div>\n<style scoped>\n    .dataframe tbody tr th:only-of-type {\n        vertical-align: middle;\n    }\n\n    .dataframe tbody tr th {\n        vertical-align: top;\n    }\n\n    .dataframe thead th {\n        text-align: right;\n    }\n</style>\n<table border=\"1\" class=\"dataframe\">\n  <thead>\n    <tr style=\"text-align: right;\">\n      <th></th>\n      <th>id</th>\n      <th>date</th>\n      <th>from_id</th>\n      <th>to_id</th>\n      <th>fwd_from</th>\n      <th>message</th>\n      <th>type</th>\n      <th>duration</th>\n      <th>dialog_id</th>\n    </tr>\n  </thead>\n  <tbody>\n    <tr>\n      <th>114861</th>\n      <td>7068</td>\n      <td>2022-03-10 11:16:45+00:00</td>\n      <td>NaN</td>\n      <td>5146177904</td>\n      <td>NaN</td>\n      <td>this message will be deleted</td>\n      <td>text</td>\n      <td>NaN</td>\n      <td>5146177904</td>\n    </tr>\n    <tr>\n      <th>114862</th>\n      <td>439</td>\n      <td>2022-03-09 21:16:53+00:00</td>\n      <td>NaN</td>\n      <td>5146177904</td>\n      <td>NaN</td>\n      <td>this message will be deleted</td>\n      <td>text</td>\n      <td>NaN</td>\n      <td>5146177904</td>\n    </tr>\n    <tr>\n      <th>114863</th>\n      <td>438</td>\n      <td>2022-03-09 21:16:43+00:00</td>\n      <td>NaN</td>\n      <td>5146177904</td>\n      <td>NaN</td>\n      <td>this message will be deleted</td>\n      <td>text</td>\n      <td>NaN</td>\n      <td>5146177904</td>\n    </tr>\n  </tbody>\n</table>\n</div>"
     },
     "execution_count": 10,
     "metadata": {},
     "output_type": "execute_result"
    }
   ],
   "source": [
    "df.loc[df['message'] == 'this message will be deleted']"
   ],
   "metadata": {
    "collapsed": false,
    "pycharm": {
     "name": "#%%\n"
    }
   }
  },
  {
   "cell_type": "markdown",
   "source": [
    "![SNOWFALL](img.png)"
   ],
   "metadata": {
    "collapsed": false
   }
  },
  {
   "cell_type": "code",
   "execution_count": 11,
   "id": "9212d9cf",
   "metadata": {},
   "outputs": [
    {
     "data": {
      "text/plain": "           id                       date                       from_id  \\\n94605  103398  2022-07-14 18:40:48+00:00  PeerUser(user_id=5146177904)   \n\n           to_id fwd_from   message  type  duration  dialog_id  \n94605  331389579      NaN  It's me!  text       NaN  331389579  ",
      "text/html": "<div>\n<style scoped>\n    .dataframe tbody tr th:only-of-type {\n        vertical-align: middle;\n    }\n\n    .dataframe tbody tr th {\n        vertical-align: top;\n    }\n\n    .dataframe thead th {\n        text-align: right;\n    }\n</style>\n<table border=\"1\" class=\"dataframe\">\n  <thead>\n    <tr style=\"text-align: right;\">\n      <th></th>\n      <th>id</th>\n      <th>date</th>\n      <th>from_id</th>\n      <th>to_id</th>\n      <th>fwd_from</th>\n      <th>message</th>\n      <th>type</th>\n      <th>duration</th>\n      <th>dialog_id</th>\n    </tr>\n  </thead>\n  <tbody>\n    <tr>\n      <th>94605</th>\n      <td>103398</td>\n      <td>2022-07-14 18:40:48+00:00</td>\n      <td>PeerUser(user_id=5146177904)</td>\n      <td>331389579</td>\n      <td>NaN</td>\n      <td>It's me!</td>\n      <td>text</td>\n      <td>NaN</td>\n      <td>331389579</td>\n    </tr>\n  </tbody>\n</table>\n</div>"
     },
     "execution_count": 11,
     "metadata": {},
     "output_type": "execute_result"
    }
   ],
   "source": [
    "df.loc[df['message'] == \"It's me!\"]"
   ]
  },
  {
   "cell_type": "markdown",
   "source": [
    "![SNOWFALL](img_1.png)\n"
   ],
   "metadata": {
    "collapsed": false
   }
  },
  {
   "cell_type": "code",
   "execution_count": 12,
   "id": "3c9980d4",
   "metadata": {},
   "outputs": [
    {
     "data": {
      "text/plain": "         id                       date from_id       to_id fwd_from  \\\n88808  8943  2022-03-10 12:17:19+00:00     NaN  5146177904      NaN   \n\n                                                 message  type  duration  \\\n88808  Управление ботом @ghjklasd_bot.\\n\\nЕсли у вас ...  text       NaN   \n\n       dialog_id  \n88808  179449893  ",
      "text/html": "<div>\n<style scoped>\n    .dataframe tbody tr th:only-of-type {\n        vertical-align: middle;\n    }\n\n    .dataframe tbody tr th {\n        vertical-align: top;\n    }\n\n    .dataframe thead th {\n        text-align: right;\n    }\n</style>\n<table border=\"1\" class=\"dataframe\">\n  <thead>\n    <tr style=\"text-align: right;\">\n      <th></th>\n      <th>id</th>\n      <th>date</th>\n      <th>from_id</th>\n      <th>to_id</th>\n      <th>fwd_from</th>\n      <th>message</th>\n      <th>type</th>\n      <th>duration</th>\n      <th>dialog_id</th>\n    </tr>\n  </thead>\n  <tbody>\n    <tr>\n      <th>88808</th>\n      <td>8943</td>\n      <td>2022-03-10 12:17:19+00:00</td>\n      <td>NaN</td>\n      <td>5146177904</td>\n      <td>NaN</td>\n      <td>Управление ботом @ghjklasd_bot.\\n\\nЕсли у вас ...</td>\n      <td>text</td>\n      <td>NaN</td>\n      <td>179449893</td>\n    </tr>\n  </tbody>\n</table>\n</div>"
     },
     "execution_count": 12,
     "metadata": {},
     "output_type": "execute_result"
    }
   ],
   "source": [
    "df[df['message'].astype(str).str.contains('Управление ботом')]"
   ]
  },
  {
   "cell_type": "markdown",
   "source": [
    "![SNOWFALL](img_2.png)\n"
   ],
   "metadata": {
    "collapsed": false
   }
  },
  {
   "cell_type": "markdown",
   "source": [
    "3. Find the longest audio message you've ever sent; what's its duration? Make its screenshot (insert your screenshots in this notebook)."
   ],
   "metadata": {
    "collapsed": false
   }
  },
  {
   "cell_type": "code",
   "execution_count": 13,
   "outputs": [
    {
     "data": {
      "text/plain": "Empty DataFrame\nColumns: [id, date, from_id, to_id, fwd_from, message, type, duration, dialog_id]\nIndex: []",
      "text/html": "<div>\n<style scoped>\n    .dataframe tbody tr th:only-of-type {\n        vertical-align: middle;\n    }\n\n    .dataframe tbody tr th {\n        vertical-align: top;\n    }\n\n    .dataframe thead th {\n        text-align: right;\n    }\n</style>\n<table border=\"1\" class=\"dataframe\">\n  <thead>\n    <tr style=\"text-align: right;\">\n      <th></th>\n      <th>id</th>\n      <th>date</th>\n      <th>from_id</th>\n      <th>to_id</th>\n      <th>fwd_from</th>\n      <th>message</th>\n      <th>type</th>\n      <th>duration</th>\n      <th>dialog_id</th>\n    </tr>\n  </thead>\n  <tbody>\n  </tbody>\n</table>\n</div>"
     },
     "execution_count": 13,
     "metadata": {},
     "output_type": "execute_result"
    }
   ],
   "source": [
    "sent_by_me_df = df.loc[df['from_id'] == USER_ID_STRING]\n",
    "sent_to_me_df = df.loc[df['to_id'] == str(USER_ID)]\n",
    "\n",
    "sent_by_me_df[sent_by_me_df['duration'] == sent_by_me_df['duration'].max()]"
   ],
   "metadata": {
    "collapsed": false,
    "pycharm": {
     "name": "#%%\n"
    }
   }
  },
  {
   "cell_type": "markdown",
   "source": [
    "(I did not send any voicemessages)"
   ],
   "metadata": {
    "collapsed": false
   }
  },
  {
   "cell_type": "markdown",
   "id": "78c034e4",
   "metadata": {},
   "source": [
    "4. Calculate numbers of send and received(s&r) messages."
   ]
  },
  {
   "cell_type": "code",
   "execution_count": 14,
   "id": "230ec33e",
   "metadata": {},
   "outputs": [
    {
     "name": "stdout",
     "output_type": "stream",
     "text": [
      "send_messages_count=88330\n",
      "received_messages_count=9565\n"
     ]
    }
   ],
   "source": [
    "send_messages_count = sent_by_me_df.shape[0]\n",
    "received_messages_count = sent_to_me_df.shape[0]\n",
    "print(f'{send_messages_count=}')\n",
    "print(f'{received_messages_count=}')"
   ]
  },
  {
   "cell_type": "markdown",
   "id": "91fc6baf",
   "metadata": {},
   "source": [
    "5. Draw number of send and received(s&r) messages per day (x-axis - is date(from min(date) till max(date)), y-axis number of messages). There should be two lines: blue for received red for send."
   ]
  },
  {
   "cell_type": "code",
   "execution_count": 48,
   "outputs": [
    {
     "data": {
      "text/plain": "             date  from_id  to_id\ndate                             \n2022-03-09    904      829    904\n2022-03-10  23660    23402  23660\n2022-03-11  24808    23677  24808\n2022-03-12     57       51     57\n2022-04-14      1        1      1\n2022-04-29   7570     7570   7570\n2022-05-01   7685     7685   7685\n2022-05-02  13114    10012  13114\n2022-05-03  12754     9563  12754\n2022-05-05   6577     4927   6577\n2022-05-18    725      577    725\n2022-05-28      1        0      1\n2022-06-14      1        0      1\n2022-06-17      3        3      3\n2022-07-14      9        9      9\n2022-07-15     11       11     11\n2022-07-16     13       13     13\n2022-10-06      1        0      1\n2022-10-22      1        0      1",
      "text/html": "<div>\n<style scoped>\n    .dataframe tbody tr th:only-of-type {\n        vertical-align: middle;\n    }\n\n    .dataframe tbody tr th {\n        vertical-align: top;\n    }\n\n    .dataframe thead th {\n        text-align: right;\n    }\n</style>\n<table border=\"1\" class=\"dataframe\">\n  <thead>\n    <tr style=\"text-align: right;\">\n      <th></th>\n      <th>date</th>\n      <th>from_id</th>\n      <th>to_id</th>\n    </tr>\n    <tr>\n      <th>date</th>\n      <th></th>\n      <th></th>\n      <th></th>\n    </tr>\n  </thead>\n  <tbody>\n    <tr>\n      <th>2022-03-09</th>\n      <td>904</td>\n      <td>829</td>\n      <td>904</td>\n    </tr>\n    <tr>\n      <th>2022-03-10</th>\n      <td>23660</td>\n      <td>23402</td>\n      <td>23660</td>\n    </tr>\n    <tr>\n      <th>2022-03-11</th>\n      <td>24808</td>\n      <td>23677</td>\n      <td>24808</td>\n    </tr>\n    <tr>\n      <th>2022-03-12</th>\n      <td>57</td>\n      <td>51</td>\n      <td>57</td>\n    </tr>\n    <tr>\n      <th>2022-04-14</th>\n      <td>1</td>\n      <td>1</td>\n      <td>1</td>\n    </tr>\n    <tr>\n      <th>2022-04-29</th>\n      <td>7570</td>\n      <td>7570</td>\n      <td>7570</td>\n    </tr>\n    <tr>\n      <th>2022-05-01</th>\n      <td>7685</td>\n      <td>7685</td>\n      <td>7685</td>\n    </tr>\n    <tr>\n      <th>2022-05-02</th>\n      <td>13114</td>\n      <td>10012</td>\n      <td>13114</td>\n    </tr>\n    <tr>\n      <th>2022-05-03</th>\n      <td>12754</td>\n      <td>9563</td>\n      <td>12754</td>\n    </tr>\n    <tr>\n      <th>2022-05-05</th>\n      <td>6577</td>\n      <td>4927</td>\n      <td>6577</td>\n    </tr>\n    <tr>\n      <th>2022-05-18</th>\n      <td>725</td>\n      <td>577</td>\n      <td>725</td>\n    </tr>\n    <tr>\n      <th>2022-05-28</th>\n      <td>1</td>\n      <td>0</td>\n      <td>1</td>\n    </tr>\n    <tr>\n      <th>2022-06-14</th>\n      <td>1</td>\n      <td>0</td>\n      <td>1</td>\n    </tr>\n    <tr>\n      <th>2022-06-17</th>\n      <td>3</td>\n      <td>3</td>\n      <td>3</td>\n    </tr>\n    <tr>\n      <th>2022-07-14</th>\n      <td>9</td>\n      <td>9</td>\n      <td>9</td>\n    </tr>\n    <tr>\n      <th>2022-07-15</th>\n      <td>11</td>\n      <td>11</td>\n      <td>11</td>\n    </tr>\n    <tr>\n      <th>2022-07-16</th>\n      <td>13</td>\n      <td>13</td>\n      <td>13</td>\n    </tr>\n    <tr>\n      <th>2022-10-06</th>\n      <td>1</td>\n      <td>0</td>\n      <td>1</td>\n    </tr>\n    <tr>\n      <th>2022-10-22</th>\n      <td>1</td>\n      <td>0</td>\n      <td>1</td>\n    </tr>\n  </tbody>\n</table>\n</div>"
     },
     "execution_count": 48,
     "metadata": {},
     "output_type": "execute_result"
    }
   ],
   "source": [
    "kek = df.copy()\n",
    "kek['date'] = pd.to_datetime(kek['date'], errors='coerce')\n",
    "kek = kek.loc[(kek['to_id'] == str(USER_ID)) | (kek['from_id'] == USER_ID_STRING)][['date', 'from_id', 'to_id']]\n",
    "grouped = kek.groupby(by=kek['date'].dt.date).count()\n",
    "grouped"
   ],
   "metadata": {
    "collapsed": false,
    "pycharm": {
     "name": "#%%\n"
    }
   }
  },
  {
   "cell_type": "code",
   "execution_count": 49,
   "outputs": [
    {
     "data": {
      "text/plain": "<Figure size 1440x720 with 1 Axes>",
      "image/png": "[encoded data removed]"
     },
     "metadata": {
      "needs_background": "light"
     },
     "output_type": "display_data"
    }
   ],
   "source": [
    "plt.rcParams[\"figure.figsize\"] = (20,10)\n",
    "plt.plot(grouped[['from_id']], label = \"Messages received\")\n",
    "plt.plot(grouped[['to_id']], label = \"Messages sent\")\n",
    "plt.legend()\n",
    "plt.show()"
   ],
   "metadata": {
    "collapsed": false,
    "pycharm": {
     "name": "#%%\n"
    }
   }
  },
  {
   "cell_type": "markdown",
   "id": "58e75c55",
   "metadata": {},
   "source": [
    "6. Draw a few diagrams to show distributions between post types in the time, a diagram showing the total amount of messages of each type."
   ]
  },
  {
   "cell_type": "code",
   "execution_count": 101,
   "outputs": [
    {
     "data": {
      "text/plain": "            date   type  size\n2231  2022-10-01  photo    53\n2232  2022-10-01   text    22\n2233  2022-10-01  video    34\n2234  2022-10-02  photo    81\n2235  2022-10-02   text    17\n...          ...    ...   ...\n2325  2022-10-31   text    34\n2326  2022-10-31  video    36\n2327  2022-11-01  photo    71\n2328  2022-11-01   text    31\n2329  2022-11-01  video    13\n\n[99 rows x 3 columns]",
      "text/html": "<div>\n<style scoped>\n    .dataframe tbody tr th:only-of-type {\n        vertical-align: middle;\n    }\n\n    .dataframe tbody tr th {\n        vertical-align: top;\n    }\n\n    .dataframe thead th {\n        text-align: right;\n    }\n</style>\n<table border=\"1\" class=\"dataframe\">\n  <thead>\n    <tr style=\"text-align: right;\">\n      <th></th>\n      <th>date</th>\n      <th>type</th>\n      <th>size</th>\n    </tr>\n  </thead>\n  <tbody>\n    <tr>\n      <th>2231</th>\n      <td>2022-10-01</td>\n      <td>photo</td>\n      <td>53</td>\n    </tr>\n    <tr>\n      <th>2232</th>\n      <td>2022-10-01</td>\n      <td>text</td>\n      <td>22</td>\n    </tr>\n    <tr>\n      <th>2233</th>\n      <td>2022-10-01</td>\n      <td>video</td>\n      <td>34</td>\n    </tr>\n    <tr>\n      <th>2234</th>\n      <td>2022-10-02</td>\n      <td>photo</td>\n      <td>81</td>\n    </tr>\n    <tr>\n      <th>2235</th>\n      <td>2022-10-02</td>\n      <td>text</td>\n      <td>17</td>\n    </tr>\n    <tr>\n      <th>...</th>\n      <td>...</td>\n      <td>...</td>\n      <td>...</td>\n    </tr>\n    <tr>\n      <th>2325</th>\n      <td>2022-10-31</td>\n      <td>text</td>\n      <td>34</td>\n    </tr>\n    <tr>\n      <th>2326</th>\n      <td>2022-10-31</td>\n      <td>video</td>\n      <td>36</td>\n    </tr>\n    <tr>\n      <th>2327</th>\n      <td>2022-11-01</td>\n      <td>photo</td>\n      <td>71</td>\n    </tr>\n    <tr>\n      <th>2328</th>\n      <td>2022-11-01</td>\n      <td>text</td>\n      <td>31</td>\n    </tr>\n    <tr>\n      <th>2329</th>\n      <td>2022-11-01</td>\n      <td>video</td>\n      <td>13</td>\n    </tr>\n  </tbody>\n</table>\n<p>99 rows × 3 columns</p>\n</div>"
     },
     "execution_count": 101,
     "metadata": {},
     "output_type": "execute_result"
    }
   ],
   "source": [
    "distr_df = df.copy()\n",
    "distr_df['date'] = pd.to_datetime(distr_df['date'], errors='coerce')\n",
    "distr_df= distr_df[['date', 'type']]\n",
    "\n",
    "# kek = kek.loc[(kek['to_id'] == str(USER_ID)) | (kek['from_id'] == USER_ID_STRING)][['date', 'from_id', 'to_id']]\n",
    "grouped2 = distr_df.groupby(by=[distr_df['date'].dt.date, distr_df['type']], as_index=False).size()\n",
    "# grouped\n",
    "grouped2 = grouped2.loc[(grouped2['date'] > datetime.date(year=2022, month=9, day=30))]\n",
    "grouped2"
   ],
   "metadata": {
    "collapsed": false,
    "pycharm": {
     "name": "#%%\n"
    }
   }
  },
  {
   "cell_type": "markdown",
   "id": "889f4f1e",
   "metadata": {},
   "source": [
    "7. Calculate top-10 people to whom you wrote the biggest amount of messages (name, amount of messages)."
   ]
  },
  {
   "cell_type": "code",
   "execution_count": 46,
   "id": "0d9cd4ec",
   "metadata": {},
   "outputs": [
    {
     "data": {
      "text/plain": "to_id\n5196553994    19075\n5144027257    17233\n5183650644     8090\n1918692347     5718\n1106564033     5701\n5272196349     5689\n520159568      5679\n1231020412     5678\n5183650644     5363\n1704321415     3867\nName: to_id, dtype: int64"
     },
     "execution_count": 46,
     "metadata": {},
     "output_type": "execute_result"
    }
   ],
   "source": [
    "sent_by_me_df.groupby([\"to_id\"])['to_id'].count().sort_values(ascending=False)[:10]"
   ]
  },
  {
   "cell_type": "markdown",
   "id": "65ed05cc",
   "metadata": {},
   "source": [
    "8. Calculate top-10 people who wrote the biggest amount of messages to you (name, amount of messages)."
   ]
  },
  {
   "cell_type": "code",
   "execution_count": 50,
   "id": "aabb5b73",
   "metadata": {},
   "outputs": [
    {
     "name": "stderr",
     "output_type": "stream",
     "text": [
      "C:\\Users\\Olexandr\\AppData\\Local\\Temp/ipykernel_8296/290842825.py:1: FutureWarning: The behavior of `series[i:j]` with an integer-dtype index is deprecated. In a future version, this will be treated as *label-based* indexing, consistent with e.g. `series[i]` lookups. To retain the old behavior, use `series.iloc[i:j]`. To get the future behavior, use `series.loc[i:j]`.\n",
      "  sent_to_me_df.groupby([\"dialog_id\"])['dialog_id'].count().sort_values(ascending=False)[:10]\n"
     ]
    },
    {
     "data": {
      "text/plain": "dialog_id\n5183650644    8090\n5144027257    1138\n1601973676     210\n1281282357      22\n1500452087      22\n2081593800      20\n497541361       14\n5022848148      14\n1787885516      11\n5164539423      10\nName: dialog_id, dtype: int64"
     },
     "execution_count": 50,
     "metadata": {},
     "output_type": "execute_result"
    }
   ],
   "source": [
    "sent_to_me_df.groupby([\"dialog_id\"])['dialog_id'].count().sort_values(ascending=False)[:10]"
   ]
  },
  {
   "cell_type": "markdown",
   "id": "86ed9232",
   "metadata": {},
   "source": [
    "## Task 2.2\n",
    "## Dialogs data analysis"
   ]
  },
  {
   "cell_type": "code",
   "execution_count": null,
   "id": "313b23f0",
   "metadata": {},
   "outputs": [],
   "source": [
    "df_meta.shape"
   ]
  },
  {
   "cell_type": "code",
   "execution_count": null,
   "id": "ef6f51b9",
   "metadata": {},
   "outputs": [],
   "source": [
    "df_meta.head(10)"
   ]
  },
  {
   "cell_type": "code",
   "execution_count": null,
   "id": "186f2f67",
   "metadata": {},
   "outputs": [],
   "source": [
    "df_meta.groupby([\"type\"])[\"type\"].count()"
   ]
  },
  {
   "cell_type": "markdown",
   "id": "c5b3d2d9",
   "metadata": {},
   "source": [
    "## Tasks to do:\n",
    "\n",
    "1. Find our TG group. Print its id and list of participants."
   ]
  },
  {
   "cell_type": "code",
   "execution_count": null,
   "id": "def4abf2",
   "metadata": {},
   "outputs": [],
   "source": []
  },
  {
   "cell_type": "markdown",
   "id": "d06390fc",
   "metadata": {},
   "source": [
    "2. Draw distribution of group sizes."
   ]
  },
  {
   "cell_type": "code",
   "execution_count": null,
   "id": "2e6f96dc",
   "metadata": {},
   "outputs": [],
   "source": []
  },
  {
   "cell_type": "markdown",
   "id": "b4f2d15e",
   "metadata": {},
   "source": [
    "3. Calculate top-10 the biggest groups/channels."
   ]
  },
  {
   "cell_type": "code",
   "execution_count": null,
   "id": "5ed5cb7c",
   "metadata": {},
   "outputs": [],
   "source": []
  },
  {
   "cell_type": "markdown",
   "id": "a016039e",
   "metadata": {},
   "source": [
    "4. Calculate the number of distinct user names you are connected to through any type of dialogue."
   ]
  },
  {
   "cell_type": "code",
   "execution_count": null,
   "id": "f84557f5",
   "metadata": {},
   "outputs": [],
   "source": []
  }
 ],
 "metadata": {
  "kernelspec": {
   "display_name": "Python 3 (ipykernel)",
   "language": "python",
   "name": "python3"
  },
  "language_info": {
   "codemirror_mode": {
    "name": "ipython",
    "version": 3
   },
   "file_extension": ".py",
   "mimetype": "text/x-python",
   "name": "python",
   "nbconvert_exporter": "python",
   "pygments_lexer": "ipython3",
   "version": "3.9.6"
  }
 },
 "nbformat": 4,
 "nbformat_minor": 5
}