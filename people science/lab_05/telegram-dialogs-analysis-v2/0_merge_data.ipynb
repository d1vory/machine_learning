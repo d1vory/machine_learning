{
 "cells": [
  {
   "cell_type": "code",
   "execution_count": 1,
   "id": "09b4e301",
   "metadata": {},
   "outputs": [],
   "source": [
    "import os\n",
    "import pandas as pd\n",
    "import glob"
   ]
  },
  {
   "cell_type": "code",
   "execution_count": 2,
   "id": "d076df7c",
   "metadata": {},
   "outputs": [],
   "source": [
    "DIALOGS_DATA_PATH = \"../data/dialogs\"\n",
    "DIALOGS_META_DATA_PATH = \"../data/dialogs_meta\"\n",
    "\n",
    "MERGED_DATA_PATH = \"../data/merged_data\""
   ]
  },
  {
   "cell_type": "code",
   "execution_count": 3,
   "id": "65a13565",
   "metadata": {},
   "outputs": [
    {
     "name": "stderr",
     "output_type": "stream",
     "text": [
      "'ls' is not recognized as an internal or external command,\n",
      "operable program or batch file.\n"
     ]
    }
   ],
   "source": [
    "!ls ../data/"
   ]
  },
  {
   "cell_type": "code",
   "execution_count": 4,
   "id": "6d0eddab",
   "metadata": {},
   "outputs": [],
   "source": [
    "dialogs_data_files = glob.glob(f\"{DIALOGS_DATA_PATH}/*.csv\")\n",
    "dialogs_meta_data_files = glob.glob(f\"{DIALOGS_META_DATA_PATH}/*.json\")"
   ]
  },
  {
   "cell_type": "markdown",
   "id": "78cc73b6",
   "metadata": {},
   "source": [
    "## merging all dialogs_data (csv files) into one"
   ]
  },
  {
   "cell_type": "code",
   "execution_count": 6,
   "id": "4d582c3b",
   "metadata": {},
   "outputs": [],
   "source": [
    "df_array = []\n",
    "\n",
    "for d in dialogs_data_files:\n",
    "    local_df = pd.read_csv(d)\n",
    "    local_df[\"dialog_id\"] = os.path.basename(d).split(\".\")[0]\n",
    "    \n",
    "    df_array.append(local_df)\n",
    "    \n",
    "df = pd.concat(df_array, ignore_index=True)"
   ]
  },
  {
   "cell_type": "code",
   "execution_count": 7,
   "id": "4d83eb47",
   "metadata": {},
   "outputs": [
    {
     "data": {
      "text/plain": "(176242, 10)"
     },
     "execution_count": 7,
     "metadata": {},
     "output_type": "execute_result"
    }
   ],
   "source": [
    "df.shape"
   ]
  },
  {
   "cell_type": "code",
   "execution_count": 8,
   "id": "96e470a8",
   "metadata": {},
   "outputs": [],
   "source": [
    "if not os.path.isdir(MERGED_DATA_PATH):\n",
    "    os.mkdir(MERGED_DATA_PATH)\n",
    "\n",
    "if \"Unnamed: 0\" in df:\n",
    "    df = df.drop([\"Unnamed: 0\"], axis=True)\n",
    "    \n",
    "df.to_csv(f\"{MERGED_DATA_PATH}/dialogs_data_all.csv\", index=False)"
   ]
  },
  {
   "cell_type": "code",
   "execution_count": 9,
   "id": "16776850",
   "metadata": {},
   "outputs": [
    {
     "data": {
      "text/plain": "(176242, 9)"
     },
     "execution_count": 9,
     "metadata": {},
     "output_type": "execute_result"
    }
   ],
   "source": [
    "df.shape"
   ]
  },
  {
   "cell_type": "code",
   "execution_count": 10,
   "id": "4672e8ce",
   "metadata": {},
   "outputs": [
    {
     "data": {
      "text/plain": "      id                       date from_id  \\\n0  59794  2022-11-01 20:00:09+00:00     NaN   \n1  59793  2022-11-01 19:37:27+00:00     NaN   \n2  59792  2022-11-01 19:37:27+00:00     NaN   \n3  59791  2022-11-01 19:37:27+00:00     NaN   \n4  59790  2022-11-01 19:37:27+00:00     NaN   \n5  59789  2022-11-01 19:37:27+00:00     NaN   \n6  59788  2022-11-01 19:37:27+00:00     NaN   \n7  59787  2022-11-01 19:37:27+00:00     NaN   \n8  59786  2022-11-01 19:37:26+00:00     NaN   \n9  59785  2022-11-01 19:37:26+00:00     NaN   \n\n                                to_id  \\\n0  PeerChannel(channel_id=1166834860)   \n1  PeerChannel(channel_id=1166834860)   \n2  PeerChannel(channel_id=1166834860)   \n3  PeerChannel(channel_id=1166834860)   \n4  PeerChannel(channel_id=1166834860)   \n5  PeerChannel(channel_id=1166834860)   \n6  PeerChannel(channel_id=1166834860)   \n7  PeerChannel(channel_id=1166834860)   \n8  PeerChannel(channel_id=1166834860)   \n9  PeerChannel(channel_id=1166834860)   \n\n                                            fwd_from  \\\n0                                                NaN   \n1  MessageFwdHeader(date=datetime.datetime(2022, ...   \n2  MessageFwdHeader(date=datetime.datetime(2022, ...   \n3  MessageFwdHeader(date=datetime.datetime(2022, ...   \n4  MessageFwdHeader(date=datetime.datetime(2022, ...   \n5  MessageFwdHeader(date=datetime.datetime(2022, ...   \n6  MessageFwdHeader(date=datetime.datetime(2022, ...   \n7  MessageFwdHeader(date=datetime.datetime(2022, ...   \n8  MessageFwdHeader(date=datetime.datetime(2022, ...   \n9  MessageFwdHeader(date=datetime.datetime(2022, ...   \n\n                                             message   type  duration  \\\n0  ❗️Глава Минобороны Турции Хулуси Акар: турецки...   text       NaN   \n1                                                NaN  photo       NaN   \n2                                                NaN  photo       NaN   \n3                                                NaN  photo       NaN   \n4                                                NaN  photo       NaN   \n5                                                NaN  photo       NaN   \n6                                                NaN  photo       NaN   \n7                                                NaN  photo       NaN   \n8                                                NaN  photo       NaN   \n9                                                NaN  photo       NaN   \n\n        dialog_id  \n0  -1001166834860  \n1  -1001166834860  \n2  -1001166834860  \n3  -1001166834860  \n4  -1001166834860  \n5  -1001166834860  \n6  -1001166834860  \n7  -1001166834860  \n8  -1001166834860  \n9  -1001166834860  ",
      "text/html": "<div>\n<style scoped>\n    .dataframe tbody tr th:only-of-type {\n        vertical-align: middle;\n    }\n\n    .dataframe tbody tr th {\n        vertical-align: top;\n    }\n\n    .dataframe thead th {\n        text-align: right;\n    }\n</style>\n<table border=\"1\" class=\"dataframe\">\n  <thead>\n    <tr style=\"text-align: right;\">\n      <th></th>\n      <th>id</th>\n      <th>date</th>\n      <th>from_id</th>\n      <th>to_id</th>\n      <th>fwd_from</th>\n      <th>message</th>\n      <th>type</th>\n      <th>duration</th>\n      <th>dialog_id</th>\n    </tr>\n  </thead>\n  <tbody>\n    <tr>\n      <th>0</th>\n      <td>59794</td>\n      <td>2022-11-01 20:00:09+00:00</td>\n      <td>NaN</td>\n      <td>PeerChannel(channel_id=1166834860)</td>\n      <td>NaN</td>\n      <td>❗️Глава Минобороны Турции Хулуси Акар: турецки...</td>\n      <td>text</td>\n      <td>NaN</td>\n      <td>-1001166834860</td>\n    </tr>\n    <tr>\n      <th>1</th>\n      <td>59793</td>\n      <td>2022-11-01 19:37:27+00:00</td>\n      <td>NaN</td>\n      <td>PeerChannel(channel_id=1166834860)</td>\n      <td>MessageFwdHeader(date=datetime.datetime(2022, ...</td>\n      <td>NaN</td>\n      <td>photo</td>\n      <td>NaN</td>\n      <td>-1001166834860</td>\n    </tr>\n    <tr>\n      <th>2</th>\n      <td>59792</td>\n      <td>2022-11-01 19:37:27+00:00</td>\n      <td>NaN</td>\n      <td>PeerChannel(channel_id=1166834860)</td>\n      <td>MessageFwdHeader(date=datetime.datetime(2022, ...</td>\n      <td>NaN</td>\n      <td>photo</td>\n      <td>NaN</td>\n      <td>-1001166834860</td>\n    </tr>\n    <tr>\n      <th>3</th>\n      <td>59791</td>\n      <td>2022-11-01 19:37:27+00:00</td>\n      <td>NaN</td>\n      <td>PeerChannel(channel_id=1166834860)</td>\n      <td>MessageFwdHeader(date=datetime.datetime(2022, ...</td>\n      <td>NaN</td>\n      <td>photo</td>\n      <td>NaN</td>\n      <td>-1001166834860</td>\n    </tr>\n    <tr>\n      <th>4</th>\n      <td>59790</td>\n      <td>2022-11-01 19:37:27+00:00</td>\n      <td>NaN</td>\n      <td>PeerChannel(channel_id=1166834860)</td>\n      <td>MessageFwdHeader(date=datetime.datetime(2022, ...</td>\n      <td>NaN</td>\n      <td>photo</td>\n      <td>NaN</td>\n      <td>-1001166834860</td>\n    </tr>\n    <tr>\n      <th>5</th>\n      <td>59789</td>\n      <td>2022-11-01 19:37:27+00:00</td>\n      <td>NaN</td>\n      <td>PeerChannel(channel_id=1166834860)</td>\n      <td>MessageFwdHeader(date=datetime.datetime(2022, ...</td>\n      <td>NaN</td>\n      <td>photo</td>\n      <td>NaN</td>\n      <td>-1001166834860</td>\n    </tr>\n    <tr>\n      <th>6</th>\n      <td>59788</td>\n      <td>2022-11-01 19:37:27+00:00</td>\n      <td>NaN</td>\n      <td>PeerChannel(channel_id=1166834860)</td>\n      <td>MessageFwdHeader(date=datetime.datetime(2022, ...</td>\n      <td>NaN</td>\n      <td>photo</td>\n      <td>NaN</td>\n      <td>-1001166834860</td>\n    </tr>\n    <tr>\n      <th>7</th>\n      <td>59787</td>\n      <td>2022-11-01 19:37:27+00:00</td>\n      <td>NaN</td>\n      <td>PeerChannel(channel_id=1166834860)</td>\n      <td>MessageFwdHeader(date=datetime.datetime(2022, ...</td>\n      <td>NaN</td>\n      <td>photo</td>\n      <td>NaN</td>\n      <td>-1001166834860</td>\n    </tr>\n    <tr>\n      <th>8</th>\n      <td>59786</td>\n      <td>2022-11-01 19:37:26+00:00</td>\n      <td>NaN</td>\n      <td>PeerChannel(channel_id=1166834860)</td>\n      <td>MessageFwdHeader(date=datetime.datetime(2022, ...</td>\n      <td>NaN</td>\n      <td>photo</td>\n      <td>NaN</td>\n      <td>-1001166834860</td>\n    </tr>\n    <tr>\n      <th>9</th>\n      <td>59785</td>\n      <td>2022-11-01 19:37:26+00:00</td>\n      <td>NaN</td>\n      <td>PeerChannel(channel_id=1166834860)</td>\n      <td>MessageFwdHeader(date=datetime.datetime(2022, ...</td>\n      <td>NaN</td>\n      <td>photo</td>\n      <td>NaN</td>\n      <td>-1001166834860</td>\n    </tr>\n  </tbody>\n</table>\n</div>"
     },
     "execution_count": 10,
     "metadata": {},
     "output_type": "execute_result"
    }
   ],
   "source": [
    "df.head(10)"
   ]
  },
  {
   "cell_type": "code",
   "execution_count": 11,
   "id": "d1bd96f3",
   "metadata": {},
   "outputs": [
    {
     "data": {
      "text/plain": "('2020-09-22 14:44:10+00:00', '2022-11-01 20:01:47+00:00')"
     },
     "execution_count": 11,
     "metadata": {},
     "output_type": "execute_result"
    }
   ],
   "source": [
    "min(df[\"date\"]),max(df[\"date\"])"
   ]
  },
  {
   "cell_type": "code",
   "execution_count": 12,
   "id": "2a1aafab",
   "metadata": {},
   "outputs": [
    {
     "data": {
      "text/plain": "type\nphoto       38382\nsticker       241\ntext       115345\nvideo       22249\nvoice          25\nName: type, dtype: int64"
     },
     "execution_count": 12,
     "metadata": {},
     "output_type": "execute_result"
    }
   ],
   "source": [
    "df.groupby([\"type\"])[\"type\"].count()"
   ]
  },
  {
   "cell_type": "code",
   "execution_count": 13,
   "id": "66a677a9",
   "metadata": {},
   "outputs": [
    {
     "data": {
      "text/plain": "type\nphoto           0.0\nsticker         0.0\ntext            0.0\nvideo      961006.0\nvoice         823.0\nName: duration, dtype: float64"
     },
     "execution_count": 13,
     "metadata": {},
     "output_type": "execute_result"
    }
   ],
   "source": [
    "df.groupby([\"type\"])[\"duration\"].sum()"
   ]
  },
  {
   "cell_type": "markdown",
   "id": "e24460df",
   "metadata": {},
   "source": [
    "## merging all dialogs_meta_data (json files) into one"
   ]
  },
  {
   "cell_type": "code",
   "execution_count": 14,
   "id": "3cecdc78",
   "metadata": {},
   "outputs": [],
   "source": [
    "df_array = []\n",
    "\n",
    "for d in dialogs_meta_data_files:\n",
    "    local_df = pd.read_json(d)\n",
    "    local_df = local_df.rename({'id': 'dialog_id'}, axis=1)\n",
    "    df_array.append(local_df)\n",
    "    \n",
    "df_meta = pd.concat(df_array, ignore_index=True)"
   ]
  },
  {
   "cell_type": "code",
   "execution_count": 15,
   "id": "6b458ce5",
   "metadata": {},
   "outputs": [],
   "source": [
    "df_meta.to_csv(f\"{MERGED_DATA_PATH}/dialogs_users_all.csv\", index=False)"
   ]
  },
  {
   "cell_type": "code",
   "execution_count": 16,
   "id": "313b23f0",
   "metadata": {},
   "outputs": [
    {
     "data": {
      "text/plain": "(27, 4)"
     },
     "execution_count": 16,
     "metadata": {},
     "output_type": "execute_result"
    }
   ],
   "source": [
    "df_meta.shape"
   ]
  },
  {
   "cell_type": "code",
   "execution_count": 17,
   "id": "ef6f51b9",
   "metadata": {},
   "outputs": [
    {
     "data": {
      "text/plain": "    dialog_id                name            type  \\\n0  1106564033  Администратор Wash  Private dialog   \n1  1231020412   Шепнуть Сплетнице  Private dialog   \n2  1271266957             Replies  Private dialog   \n3  1281282357          Твоя Фрида  Private dialog   \n4  1500452087             ЧВК бот  Private dialog   \n5  1601973676   BEREGINI FEEDBACK  Private dialog   \n6  1704321415             Сварщик  Private dialog   \n7  1787885516     Karaulustal_bot  Private dialog   \n8   179449893        Livegram Bot  Private dialog   \n9  1918692347          syrenka_pl  Private dialog   \n\n                                               users  \n0  {'user_id': 1106564033, 'first_name': 'Админис...  \n1  {'user_id': 1231020412, 'first_name': 'Шепнуть...  \n2  {'user_id': 1271266957, 'first_name': 'Replies...  \n3  {'user_id': 1281282357, 'first_name': 'Твоя Фр...  \n4  {'user_id': 1500452087, 'first_name': 'ЧВК бот...  \n5  {'user_id': 1601973676, 'first_name': 'BEREGIN...  \n6  {'user_id': 1704321415, 'first_name': 'Сварщик...  \n7  {'user_id': 1787885516, 'first_name': 'Karaulu...  \n8  {'user_id': 179449893, 'first_name': 'Livegram...  \n9  {'user_id': 1918692347, 'first_name': 'syrenka...  ",
      "text/html": "<div>\n<style scoped>\n    .dataframe tbody tr th:only-of-type {\n        vertical-align: middle;\n    }\n\n    .dataframe tbody tr th {\n        vertical-align: top;\n    }\n\n    .dataframe thead th {\n        text-align: right;\n    }\n</style>\n<table border=\"1\" class=\"dataframe\">\n  <thead>\n    <tr style=\"text-align: right;\">\n      <th></th>\n      <th>dialog_id</th>\n      <th>name</th>\n      <th>type</th>\n      <th>users</th>\n    </tr>\n  </thead>\n  <tbody>\n    <tr>\n      <th>0</th>\n      <td>1106564033</td>\n      <td>Администратор Wash</td>\n      <td>Private dialog</td>\n      <td>{'user_id': 1106564033, 'first_name': 'Админис...</td>\n    </tr>\n    <tr>\n      <th>1</th>\n      <td>1231020412</td>\n      <td>Шепнуть Сплетнице</td>\n      <td>Private dialog</td>\n      <td>{'user_id': 1231020412, 'first_name': 'Шепнуть...</td>\n    </tr>\n    <tr>\n      <th>2</th>\n      <td>1271266957</td>\n      <td>Replies</td>\n      <td>Private dialog</td>\n      <td>{'user_id': 1271266957, 'first_name': 'Replies...</td>\n    </tr>\n    <tr>\n      <th>3</th>\n      <td>1281282357</td>\n      <td>Твоя Фрида</td>\n      <td>Private dialog</td>\n      <td>{'user_id': 1281282357, 'first_name': 'Твоя Фр...</td>\n    </tr>\n    <tr>\n      <th>4</th>\n      <td>1500452087</td>\n      <td>ЧВК бот</td>\n      <td>Private dialog</td>\n      <td>{'user_id': 1500452087, 'first_name': 'ЧВК бот...</td>\n    </tr>\n    <tr>\n      <th>5</th>\n      <td>1601973676</td>\n      <td>BEREGINI FEEDBACK</td>\n      <td>Private dialog</td>\n      <td>{'user_id': 1601973676, 'first_name': 'BEREGIN...</td>\n    </tr>\n    <tr>\n      <th>6</th>\n      <td>1704321415</td>\n      <td>Сварщик</td>\n      <td>Private dialog</td>\n      <td>{'user_id': 1704321415, 'first_name': 'Сварщик...</td>\n    </tr>\n    <tr>\n      <th>7</th>\n      <td>1787885516</td>\n      <td>Karaulustal_bot</td>\n      <td>Private dialog</td>\n      <td>{'user_id': 1787885516, 'first_name': 'Karaulu...</td>\n    </tr>\n    <tr>\n      <th>8</th>\n      <td>179449893</td>\n      <td>Livegram Bot</td>\n      <td>Private dialog</td>\n      <td>{'user_id': 179449893, 'first_name': 'Livegram...</td>\n    </tr>\n    <tr>\n      <th>9</th>\n      <td>1918692347</td>\n      <td>syrenka_pl</td>\n      <td>Private dialog</td>\n      <td>{'user_id': 1918692347, 'first_name': 'syrenka...</td>\n    </tr>\n  </tbody>\n</table>\n</div>"
     },
     "execution_count": 17,
     "metadata": {},
     "output_type": "execute_result"
    }
   ],
   "source": [
    "df_meta.head(10)"
   ]
  },
  {
   "cell_type": "code",
   "execution_count": 18,
   "id": "186f2f67",
   "metadata": {},
   "outputs": [
    {
     "data": {
      "text/plain": "type\nPrivate dialog    27\nName: type, dtype: int64"
     },
     "execution_count": 18,
     "metadata": {},
     "output_type": "execute_result"
    }
   ],
   "source": [
    "df_meta.groupby([\"type\"])[\"type\"].count()"
   ]
  },
  {
   "cell_type": "code",
   "execution_count": null,
   "id": "36bc5268",
   "metadata": {},
   "outputs": [],
   "source": []
  }
 ],
 "metadata": {
  "kernelspec": {
   "display_name": "Python 3 (ipykernel)",
   "language": "python",
   "name": "python3"
  },
  "language_info": {
   "codemirror_mode": {
    "name": "ipython",
    "version": 3
   },
   "file_extension": ".py",
   "mimetype": "text/x-python",
   "name": "python",
   "nbconvert_exporter": "python",
   "pygments_lexer": "ipython3",
   "version": "3.9.6"
  }
 },
 "nbformat": 4,
 "nbformat_minor": 5
}